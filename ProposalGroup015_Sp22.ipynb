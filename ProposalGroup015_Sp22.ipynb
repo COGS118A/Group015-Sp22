{
  "cells": [
    {
      "cell_type": "markdown",
      "metadata": {
        "id": "hEihCld3ByH0"
      },
      "source": [
        "# COGS 118A- Project Proposal"
      ]
    },
    {
      "cell_type": "markdown",
      "metadata": {
        "id": "EKUR_Z2WByIF"
      },
      "source": [
        "# Names\n",
        "\n",
        "\n",
        "- Kimberly Liu\n",
        "- Ruoxuan Li\n",
        "- Juan Castillejos-Garcia\n",
        "- Manan Surana"
      ]
    },
    {
      "cell_type": "markdown",
      "metadata": {
        "id": "X6ffkwspByII"
      },
      "source": [
        "#Abstract\n",
        "Our goal of the project is to find the best method l to predict the readmission rates of diabetes patients in US by comparing different 4 classification methods learned in class. The data that we will use represents 10 years (1999–2008) of clinical care at 130 hospitals and integrated delivery networks throughout the United States. It contains over 50 attributes such as patient number, race, gender, and age, etc. and classification labels: >30(readmitted after 30 days), <30 (readmitted within 30 days), and no (no readmission). We will first split the data into the training set and the testing set. Then we are going to select a range of attributes and use them to predict the readmission rates via ML methods such as SoftMax regression, multi-class SVM, KNN, and decision tree/random forest. The performance of our models will be measured by evaluating the rates of Type 1 and Type 2 errors."
      ]
    },
    {
      "cell_type": "markdown",
      "metadata": {
        "id": "bJFAXWfrByIU"
      },
      "source": [
        "# Background\n",
        "Diabetes is associated with an increased risk of heart disease, stroke, high blood pressure and narrowing of blood vessels<a name = \"https://www.mayoclinic.org/diseases-conditions/type-2-diabetes/symptoms-causes/syc-20351193#:~:text=Potential%20complications%20of%20diabetes%20and,damage%20(neuropathy)%20in%20limbs.\"></a>[<sup>[1]</sup>](#abc). The high readmission rates of diabetes patients bring heavy burden to the medical systems in the US.\n",
        "According to one of the research, thirty-day readmission rates for hospitalized patients with diabetes are reported to be between 14.4 and 22.7%, much higher than the rate for all hospitalized patients (8.5–13.5%)<a name=\"https://clindiabetesendo.biomedcentral.com/articles/10.1186/s40842-016-0040-x\"></a>[<sup>[2]</sup>](#admonishnote). In order to provide better care for patients who are diagnosed with diabetes, some researchers have attempted to predict the readmission rates with certain attributes associated with patients.\n",
        "Prior study done by _Strack, Beata, et al_. suggests that the relationship between the probability of readmission and the HbA1c measurement depends on the primary diagnosis<a name=\"https://www.hindawi.com/journals/bmri/2014/781670/\"></a>[<sup>[3]</sup>](#wfds) using multivariable logistic regression. \n",
        "In this project, we want to explore machine learning algorithms that might help us better predict the readmission rates to which could be useful for small town policy makers to allocate medical resources and personnel more appropriately.\n"
      ]
    },
    {
      "cell_type": "markdown",
      "metadata": {
        "id": "DCLI0FxCByIX"
      },
      "source": [
        "# Problem Statement\n",
        "\n",
        "The U.S has a problem of access to health care<a name=\"ander\"></a>[<sup>[4]</sup>](#ander). The number of health care professional required to service the aging population is greater than the number of well-trained medical professionals being supplied. Rural areas are especially vulnerable to not having many qualified doctors and nurses<a name=\"ziller\"></a>[<sup>[5]</sup>](#ziller). Our goal of this project is improving patient outcomes by exploring the accuracy of 4 machine learning models in predicting readmission rate of patients using historic data collected over 10 years. Most hospitals keep a clinical history for every patient admitted which in rural areas can be used as input to an efficient machine learning algorithm to predict staffing and funding needs. Our project seeks to use features found in such clinical histories to label a patient into each of the 3 readmission categories. For any given time interval of a hospital, a \"future prediction set\" can be put through the algorithm with best performance to label each patient. Taking the count of each of the patients in the predcition set labeled as needing readmission, the readmission rate in the following 30 days can be computed."
      ]
    },
    {
      "cell_type": "markdown",
      "metadata": {
        "id": "DGRPcRO_ByIb"
      },
      "source": [
        "# Data\n",
        "\n",
        "__What datasets do we need? Why do we need them?__\n",
        "\n",
        "- For our objective, we will be needing a training dataset and a test dataset. The training dataset will be used to train the different machine learning algorithms or the classifiers that we will be using. After traning our models or classifiers with the training dataset, we will need a testing dataset to test them.\n",
        "\n",
        "- We are going to be using the \"Diabetes 130-US hospitals\" dataset training and testing dataset. We will split the dataset into two parts for testing and training.\n",
        "\n",
        "\n",
        "__Diabetes 130-US hospitals dataset__\n",
        "\n",
        "- Source: The UCI Machine Learning Repository, collection of databases, domain theories, and data generators that are used by the machine learning community for the empirical analysis of machine learning algorithms. \n",
        "\n",
        "- Link: https://archive.ics.uci.edu/ml/datasets/Diabetes+130-US+hospitals+for+years+1999-2008\n",
        "\n",
        "- Size (# of variables, # of observations): There are 55 different variables that represent each observation. There are 100,000 observations present in the dataset\n",
        "\n",
        "- Observations: The dataset represents clinical care provided between 1999 to 2008 at 130 US hospitals. The dataset contains of categorical and quantitative variables\n",
        "\n",
        "  Each observation consists of attributes such as patient number, race, gender, age, admission type, time in hospital, medical specialty of admitting physician, HbA1c test result etc.\n",
        "\n",
        "- Special Handling: Missing Values \n"
      ]
    },
    {
      "cell_type": "markdown",
      "metadata": {
        "id": "j7gl7bGEByIf"
      },
      "source": [
        "# Proposed Solution\n",
        "\n",
        "\n",
        "We plan to try out 4 different machine learning algorithms to the problem. Since this is a multi-class(3 classes) classification problem, all of our models should be multi-class classifiers, and we will use type I and type II errors of each class type to test how good our models behave. Here are the 4 models we will use: parametric models(Softmax Regression, Multi-class SVM) and non-parametric models(KNN, Decision Tree or Random Forest). \n",
        "\n",
        "- Softmax Regression  \n",
        "Softmax regression is a generalization of logistic regression to support multi-class classification problems. It utilizes softmax function to compute the probability of the sample belonging to each class. For implementation, we can use sklearn.linear_model.LogisticRegression(multi_class=‘multinomial’).\n",
        "- Multi-class SVM  \n",
        "SVM is a model that tries to find a hyperplane(decision boundary) that maximizes the distance between the data points and the class boundary. Since SVM does not support multi-class classification naturally, we can break down our problem to multipale binary classification problems. Since we have 3 classes, we will train 3 SVMs and each SVM predicts the membership of that sample in one of the classes. Regarding implementation details, we can use sklearn.svm.SVC(), where we will try to use different kernels: ‘linear’, ‘poly’, ‘rbf’ and use cross validation to select the best kernel.\n",
        "- KNN  \n",
        "K-nearest neighbors classifer first calulates the first k closest neighbors of the data point and predict the label that has the most occurence in the first k nearest neighbors' labels. We will use sklearn.neighbors.KNeighborsClassifier() to implement this and use cross validation to select our hyperparameter k.\n",
        "- Decision Tree or Random Forest  \n",
        "Decision tree is a way to orgnize our data in an hierarchical way and we can have any decision boundary(linear or non-linear) using decision trees. When building the tree, we select the splits that have the most information gain. We will use sklearn.tree.DecisionTreeClassifier() to implement this algorithm. Still, we are going to experiment with the criterion('gini' or 'entropy') also the max_depth of the tree to prevent overfitting.\n",
        "\n",
        "We will use the current state-of-the-art model, Deep Neural Network, specifically Multilayer Perceptrons, as our benchmark model.\n"
      ]
    },
    {
      "cell_type": "markdown",
      "metadata": {
        "id": "0hzG5IubByIj"
      },
      "source": [
        "# Evaluation Metrics\n",
        "For resource allocation the main 2 cases of concern are having many staff and not enough customers or having too many customers and not enough staff. In a medical setting not having enough doctors and nurses is the worst of the previous 2 cases. Hence the algorithm minimizing the ratio of false negatives will be considered better. Note a false negative is incorrectly predicting the patient will not need readmission (Type 2 error).\n",
        "If $y$ is the number of patients incorrectly labeled as not needed readmission and $x$ is the number of patients correctly label as needing readmission, then $\\text{rate of false negatives} = \\frac{y}{x+y}$. \n",
        "\n",
        "From a purely finantial point of view being overstaffed is bad for business. Thus, we'll also look at the rate the algorithms incorrectly label a patient as needing readmission within 30 days (Type 1 error).\n",
        "We will also look at accuracy by computing the ratio between the number of incorrect predictions divided by the number of data points we are trying to classify and see if for these 3 different metrics there's a difference in the algorithm that could be considered better."
      ]
    },
    {
      "cell_type": "markdown",
      "metadata": {
        "id": "hcY4YxKLByIm"
      },
      "source": [
        "# Ethics & Privacy"
      ]
    },
    {
      "cell_type": "markdown",
      "metadata": {
        "id": "2yTp5mLOByIn"
      },
      "source": [
        "\n",
        "##Data Collection:\n",
        "\n",
        "###Our Concerns:\n",
        "1) Did we consider what biases could affect our data collection? Are there any biases in our datasets? \n",
        "\n",
        "2) How can we limit exposure of the subjects?\n",
        "\n",
        "###Measures: \n",
        "\n",
        "We will be careful when generalizing our results such as, not making claims that our results can be generalized to the entire population. The dataset is disidentified in order to limit exposure of the subjects. Also all the subjects are aware of what data has been collected, for what purpose, and on agreement.  \n",
        "\n",
        "##Models:\n",
        "\n",
        "###Our Concerns:\n",
        "\n",
        "1) Are we sure that our models do not rely on unfair variables? Are we unknowingly or knowingly choosing discriminatory variables? Can we say with certainty that our Model fair?\n",
        "\n",
        "2) Can anyone easily explain and understand the decisions made by the model and the results? Is there any thing about the process or the results of the model that can confuse others?\n",
        "\n",
        "3) Have we clearly addressed any and all limitations or shortcoming of our models? Have we purposefully marginalized any limitations to make us look good? Can people clearly explain when to use our model and when not to?\n",
        "\n",
        "###Measures: \n",
        "\n",
        "In order to make sure there is no bias in our model, we have selected a large dataset to control for any potential sample bias or prejudice bias. We will make sure to make as few assumptions as possible to keep the bias low. We will also document any limitations or shortcomings with our model. We will also document any problems we faced while working with the models and what steps we took to solve them.\n",
        "\n",
        "\n",
        "##Analysis:\n",
        "\n",
        "###Our Concerns:\n",
        "\n",
        "1) Are there any blindspots in our analysis? Any missing perespectives?\n",
        "\n",
        "2) Are the visualizations we are using and the statistics we calculated honest? Are we accurately communicating the results of our experiments?  \n",
        "\n",
        "3) Can this experiment and analysis be reproduced? If people reuse our model and datasets, will they come to same conclusion as us? \n",
        "\n",
        "###Measures: \n",
        "\n",
        "We have taken steps to make sure that our data and models have no biases in them. Any statsitics or claims used in the analysis will be referenced for the readers to verify. In order to make sure that our experiment and analysis is reproducible we will make sure each step we took is clear and understandable. This will allow others to easily reproduce our results using our models and datasets.      \n",
        "\n"
      ]
    },
    {
      "cell_type": "markdown",
      "metadata": {
        "id": "4wXz-hK5ByIp"
      },
      "source": [
        "# Team Expectations "
      ]
    },
    {
      "cell_type": "markdown",
      "metadata": {
        "id": "K4wVYqqyByIr"
      },
      "source": [
        "How will we interact/communicate as a team?\n",
        "\n",
        "- We have a discord server where we are all added. Any communication about the project will take place there. Links to all project related materials such as code and documentations can also be found there\n",
        "\n",
        "- We also have shared our email addresses for any other communications\n",
        "\n",
        "- Online and in-person meetings for anything that needs team attention and discussion \n",
        "\n",
        "How will we handle conflict and difficulty?\n",
        "\n",
        "- If there are any questions that any member may have they can ask them in the discord server or through email\n",
        "\n",
        "- If there are any major conflicts that arise, they will be immediately be addressed in the discord server. If anything requires team discussion we can meet online or in-person as needed\n",
        "\n",
        "How will we handle making decisions and setting goals/schedule?\n",
        "\n",
        "- All decisions and goal setting/scheduling happen in the discord server or during planned in-person or online meetings\n",
        "\n",
        "How much work do we expect from each other?\n",
        "\n",
        "- We will all be assigned weekly tasks that we will work on. At the end of the week we update the team about our progress. We will also actively make sure each member feels that the work assigned is fair and there are no concerns\n",
        "\n",
        "How will we handle deadlines?\n",
        "\n",
        "- We will set deadlines that everyone can agree upon and manage given their schedule. \n",
        "\n"
      ]
    },
    {
      "cell_type": "markdown",
      "metadata": {
        "id": "ZDf8JFhZByIs"
      },
      "source": [
        "# Project Timeline Proposal"
      ]
    },
    {
      "cell_type": "markdown",
      "metadata": {
        "id": "lc-5YS2SByIt"
      },
      "source": [
        "| Meeting Date  | Meeting Time| Completed Before Meeting  | Discuss at Meeting |\n",
        "|---|---|---|---|\n",
        "| 4/20  |  7:30 PM |  Brainstorm topics/questions (all)  | Determine best form of communication; Discuss and decide on final project topic; Discuss dataset and possible solutions | \n",
        "| 4/22  |  7:30 PM |  Draft project proposal | Proofread the proposal; submit project proposal | \n",
        "| 4/27  | 7:30 PM  | Download the dataset and take a look at the dataset  | Discuss Wrangling and possible analytical approaches; Assign group members to lead each specific part   |\n",
        "| 5/4  | 7:30 PM  | Import & Wrangle Data ,do some data cleaning (all) | Review/Edit wrangling/EDA; Discuss Machine Learning Algorithm Plan   |\n",
        "| 5/11  | 7:30 PM  | Finalize wrangling/EDA; Begin trying out different algorithms for project (all) | Discuss/finish project checkpoint; Submit project checkpoint|\n",
        "| 5/25  | 12 PM  | Complete all experiments; Draft results/conclusion/discussion (all)| edit/finalize full project |\n",
        "| 6/7  | Before 11:59 PM  | NA | Turn in Final Project  |"
      ]
    },
    {
      "cell_type": "markdown",
      "metadata": {
        "id": "acm4doKbByIv"
      },
      "source": [
        "# Footnotes\n",
        "<a name=\"abc\"></a>1.[^](#abc):Mayo Foundation for Medical Education and Research. (2021, January 20). Type 2 diabetes. Mayo Clinic. Retrieved April 23, 2022, from https://www.mayoclinic.org/diseases-conditions/type-2-diabetes/symptoms-causes/syc-20351193#:~:text=Potential%20complications%20of%20diabetes%20and,damage%20(neuropathy)%20in%20limbs. <br> \n",
        "<a name=\"admonishnote\"></a>2.[^](#admonishnote): Ostling, S., Wyckoff, J., Ciarkowski, S. L., Pai, C.-W., Choe, H. M., Bahl, V., &amp; Gianchandani, R. (2017, March 22). The relationship between diabetes mellitus and 30-day readmission rates - clinical diabetes and endocrinology. BioMed Central. Retrieved April 23, 2022, from https://clindiabetesendo.biomedcentral.com/articles/10.1186/s40842-016-0040-x <br>\n",
        "<a name=\"wfds\"></a>3.[^](#wfds): Strack, B., DeShazo, J. P., Gennings, C., Olmo, J. L., Ventura, S., Cios, K. J., &amp; Clore, J. N. (2014, April 3). Impact of hba1c measurement on hospital readmission rates: Analysis of 70,000 clinical database patient records. BioMed Research International. Retrieved April 23, 2022, from https://doi.org/10.1155/2014/781670.\n",
        "\n",
        "<a name=\"ander\"></a>4.[^](#ander): Andersen, R., & Aday, L. A. (1978). Access to Medical Care in the U.S.: Realized and Potential. Medical Care, 16(7), 533–546. http://www.jstor.org/stable/3763653\n",
        "\n",
        "<a name=\"ziller\"></a>5.[^](#ziller):Ziller, E. (2014). Access to medical care in rural America. Rural public health: Best practices and preventive models, 11-28."
      ]
    },
    {
      "cell_type": "code",
      "source": [
        ""
      ],
      "metadata": {
        "id": "MrnJFxCNqDpW"
      },
      "execution_count": null,
      "outputs": []
    }
  ],
  "metadata": {
    "kernelspec": {
      "display_name": "Python 3",
      "language": "python",
      "name": "python3"
    },
    "language_info": {
      "codemirror_mode": {
        "name": "ipython",
        "version": 3
      },
      "file_extension": ".py",
      "mimetype": "text/x-python",
      "name": "python",
      "nbconvert_exporter": "python",
      "pygments_lexer": "ipython3",
      "version": "3.7.1"
    },
    "colab": {
      "name": "ProposalGroup015-Sp22.ipynb",
      "provenance": [],
      "collapsed_sections": []
    }
  },
  "nbformat": 4,
  "nbformat_minor": 0
}