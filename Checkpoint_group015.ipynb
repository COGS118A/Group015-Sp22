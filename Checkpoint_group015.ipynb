{
  "cells": [
    {
      "cell_type": "markdown",
      "metadata": {
        "id": "hEihCld3ByH0"
      },
      "source": [
        "# COGS 118A- Project Proposal"
      ]
    },
    {
      "cell_type": "markdown",
      "metadata": {
        "id": "EKUR_Z2WByIF"
      },
      "source": [
        "# Names\n",
        "\n",
        "\n",
        "- Kimberly Liu\n",
        "- Ruoxuan Li\n",
        "- Juan Castillejos-Garcia\n",
        "- Manan Surana"
      ]
    },
    {
      "cell_type": "markdown",
      "metadata": {
        "id": "X6ffkwspByII"
      },
      "source": [
        "#Abstract\n",
        "Our goal of the project is to find the best method l to predict the readmission rates of diabetes patients in US by comparing different 4 classification methods learned in class. The data that we will use represents 10 years (1999–2008) of clinical care at 130 hospitals and integrated delivery networks throughout the United States. It contains over 50 attributes such as patient number, race, gender, and age, etc. and classification labels: >30(readmitted after 30 days), <30 (readmitted within 30 days), and no (no readmission). We will first split the data into the training set and the testing set. Then we are going to select a range of attributes and use them to predict the readmission rates via ML methods such as SoftMax regression, multi-class SVM, KNN, and decision tree/random forest. The performance of our models will be measured by evaluating the rates of Type 1 and Type 2 errors."
      ]
    },
    {
      "cell_type": "markdown",
      "metadata": {
        "id": "bJFAXWfrByIU"
      },
      "source": [
        "# Background\n",
        "Diabetes is associated with an increased risk of heart disease, stroke, high blood pressure and narrowing of blood vessels<a name = \"https://www.mayoclinic.org/diseases-conditions/type-2-diabetes/symptoms-causes/syc-20351193#:~:text=Potential%20complications%20of%20diabetes%20and,damage%20(neuropathy)%20in%20limbs.\"></a>[<sup>[1]</sup>](#abc). The high readmission rates of diabetes patients bring heavy burden to the medical systems in the US.\n",
        "According to one of the research, thirty-day readmission rates for hospitalized patients with diabetes are reported to be between 14.4 and 22.7%, much higher than the rate for all hospitalized patients (8.5–13.5%)<a name=\"https://clindiabetesendo.biomedcentral.com/articles/10.1186/s40842-016-0040-x\"></a>[<sup>[2]</sup>](#admonishnote). In order to provide better care for patients who are diagnosed with diabetes, some researchers have attempted to predict the readmission rates with certain attributes associated with patients.\n",
        "Prior study done by _Strack, Beata, et al_. suggests that the relationship between the probability of readmission and the HbA1c measurement depends on the primary diagnosis<a name=\"https://www.hindawi.com/journals/bmri/2014/781670/\"></a>[<sup>[3]</sup>](#wfds) using multivariable logistic regression. \n",
        "In this project, we want to explore machine learning algorithms that might help us better predict the readmission rates to which could be useful for small town policy makers to allocate medical resources and personnel more appropriately.\n"
      ]
    },
    {
      "cell_type": "markdown",
      "metadata": {
        "id": "DCLI0FxCByIX"
      },
      "source": [
        "# Problem Statement\n",
        "\n",
        "The U.S has a problem of access to health care<a name=\"ander\"></a>[<sup>[4]</sup>](#ander). The number of health care professional required to service the aging population is greater than the number of well-trained medical professionals being supplied. Rural areas are especially vulnerable to not having many qualified doctors and nurses<a name=\"ziller\"></a>[<sup>[5]</sup>](#ziller). Our goal of this project is improving patient outcomes by exploring the accuracy of 4 machine learning models in predicting readmission rate of patients using historic data collected over 10 years. Most hospitals keep a clinical history for every patient admitted which in rural areas can be used as input to an efficient machine learning algorithm to predict staffing and funding needs. Our project seeks to use features found in such clinical histories to label a patient into each of the 3 readmission categories. For any given time interval of a hospital, a \"future prediction set\" can be put through the algorithm with best performance to label each patient. Taking the count of each of the patients in the predcition set labeled as needing readmission, the readmission rate in the following 30 days can be computed."
      ]
    },
    {
      "cell_type": "markdown",
      "metadata": {
        "id": "DGRPcRO_ByIb"
      },
      "source": [
        "# Data\n",
        "\n",
        "__What datasets do we need? Why do we need them?__\n",
        "\n",
        "- For our objective, we will be needing a training dataset and a test dataset. The training dataset will be used to train the different machine learning algorithms or the classifiers that we will be using. After traning our models or classifiers with the training dataset, we will need a testing dataset to test them.\n",
        "\n",
        "- We are going to be using the \"Diabetes 130-US hospitals\" dataset training and testing dataset. We will split the dataset into two parts for testing and training.\n",
        "\n",
        "\n",
        "__Diabetes 130-US hospitals dataset__\n",
        "\n",
        "- Source: The UCI Machine Learning Repository, collection of databases, domain theories, and data generators that are used by the machine learning community for the empirical analysis of machine learning algorithms. \n",
        "\n",
        "- Link: https://archive.ics.uci.edu/ml/datasets/Diabetes+130-US+hospitals+for+years+1999-2008\n",
        "\n",
        "- Size (# of variables, # of observations): There are 55 different variables that represent each observation. There are 100,000 observations present in the dataset\n",
        "\n",
        "- Observations: The dataset represents clinical care provided between 1999 to 2008 at 130 US hospitals. The dataset contains of categorical and quantitative variables\n",
        "\n",
        "  Each observation consists of attributes such as patient number, race, gender, age, admission type, time in hospital, medical specialty of admitting physician, HbA1c test result etc.\n",
        "\n",
        "- Special Handling: Missing Values \n"
      ]
    },
    {
      "cell_type": "markdown",
      "source": [
        "######Data Exploration"
      ],
      "metadata": {
        "id": "_qEg41OEFpo3"
      }
    },
    {
      "cell_type": "markdown",
      "source": [
        "The original link https://archive.ics.uci.edu/ml/machine-learning-databases/00296/ only allows for donwloading the zip file to our local enviroment. To get around this problem and allow for real time collaboration we are using google drive to store the original data files and the post processing data files. All 4 menbers have acess to the shared drive and the notebook, but if the grader tries to run the notebook an error may occur. We include comments of how to run the code locally if the files datafile is in the same directory."
      ],
      "metadata": {
        "id": "vVfOSa241i-n"
      }
    },
    {
      "cell_type": "code",
      "source": [
        "from google.colab import drive\n",
        "drive.mount('/content/drive')\n",
        "import numpy as np\n",
        "import pandas as pd\n",
        "import matplotlib.pyplot as plt\n",
        "\n",
        "data_raw = pd.read_csv (r'/content/drive/Shared drives/cogs118A/dataset_diabetes/diabetic_data.csv')"
      ],
      "metadata": {
        "id": "NtXKfTBTFoxU",
        "colab": {
          "base_uri": "https://localhost:8080/"
        },
        "outputId": "0b608ac5-a16b-460b-d9da-952667232545"
      },
      "execution_count": null,
      "outputs": [
        {
          "output_type": "stream",
          "name": "stdout",
          "text": [
            "Drive already mounted at /content/drive; to attempt to forcibly remount, call drive.mount(\"/content/drive\", force_remount=True).\n"
          ]
        }
      ]
    },
    {
      "cell_type": "markdown",
      "source": [
        "If the file diabetic_data.csv is in the same folder as the notebook please uncomment line below and run"
      ],
      "metadata": {
        "id": "nlZtHrA4vcPP"
      }
    },
    {
      "cell_type": "code",
      "source": [
        "import numpy as np\n",
        "import pandas as pd\n",
        "import matplotlib.pyplot as plt\n",
        "#data_raw = pd.read_csv (r './diabetic_data.csv')"
      ],
      "metadata": {
        "id": "IebiwFPS3k6P"
      },
      "execution_count": null,
      "outputs": []
    },
    {
      "cell_type": "markdown",
      "source": [
        "We start looking at the contents of each of the colunms of our dataframe"
      ],
      "metadata": {
        "id": "4YVa48QovvMR"
      }
    },
    {
      "cell_type": "code",
      "source": [
        "data_raw.columns"
      ],
      "metadata": {
        "colab": {
          "base_uri": "https://localhost:8080/"
        },
        "id": "6ehjE2MCwMzT",
        "outputId": "2ba0670e-0d1e-4e46-d16b-ca233ea18dae"
      },
      "execution_count": null,
      "outputs": [
        {
          "output_type": "execute_result",
          "data": {
            "text/plain": [
              "Index(['encounter_id', 'patient_nbr', 'race', 'gender', 'age', 'weight',\n",
              "       'admission_type_id', 'discharge_disposition_id', 'admission_source_id',\n",
              "       'time_in_hospital', 'payer_code', 'medical_specialty',\n",
              "       'num_lab_procedures', 'num_procedures', 'num_medications',\n",
              "       'number_outpatient', 'number_emergency', 'number_inpatient', 'diag_1',\n",
              "       'diag_2', 'diag_3', 'number_diagnoses', 'max_glu_serum', 'A1Cresult',\n",
              "       'metformin', 'repaglinide', 'nateglinide', 'chlorpropamide',\n",
              "       'glimepiride', 'acetohexamide', 'glipizide', 'glyburide', 'tolbutamide',\n",
              "       'pioglitazone', 'rosiglitazone', 'acarbose', 'miglitol', 'troglitazone',\n",
              "       'tolazamide', 'examide', 'citoglipton', 'insulin',\n",
              "       'glyburide-metformin', 'glipizide-metformin',\n",
              "       'glimepiride-pioglitazone', 'metformin-rosiglitazone',\n",
              "       'metformin-pioglitazone', 'change', 'diabetesMed', 'readmitted'],\n",
              "      dtype='object')"
            ]
          },
          "metadata": {},
          "execution_count": 34
        }
      ]
    },
    {
      "cell_type": "markdown",
      "source": [
        "'Encounter_id' and 'patient_nbr' are numerical values that help identify a patient. Their distribution is irrelevant to the problem."
      ],
      "metadata": {
        "id": "5OIAMbVJwaLY"
      }
    },
    {
      "cell_type": "markdown",
      "source": [
        "Race is a nominal variable with values and distribution:"
      ],
      "metadata": {
        "id": "NWkxwmliz5mr"
      }
    },
    {
      "cell_type": "code",
      "source": [
        "print(np.unique(data_raw['race']))"
      ],
      "metadata": {
        "id": "TpBnoEeB4zGz",
        "colab": {
          "base_uri": "https://localhost:8080/"
        },
        "outputId": "dd5501a7-fd91-4950-a39b-493ee29c426b"
      },
      "execution_count": null,
      "outputs": [
        {
          "output_type": "stream",
          "name": "stdout",
          "text": [
            "['?' 'AfricanAmerican' 'Asian' 'Caucasian' 'Hispanic' 'Other']\n"
          ]
        }
      ]
    },
    {
      "cell_type": "code",
      "source": [
        "print(data_raw['race'].describe())"
      ],
      "metadata": {
        "id": "5DzBRUVl47hR",
        "colab": {
          "base_uri": "https://localhost:8080/"
        },
        "outputId": "e201a992-0f0b-468e-8056-85ab81354d4e"
      },
      "execution_count": null,
      "outputs": [
        {
          "output_type": "stream",
          "name": "stdout",
          "text": [
            "count        101766\n",
            "unique            6\n",
            "top       Caucasian\n",
            "freq          76099\n",
            "Name: race, dtype: object\n"
          ]
        }
      ]
    },
    {
      "cell_type": "code",
      "source": [
        "fig, ax = plt.subplots(figsize =(10, 7))\n",
        "plt.hist(data_raw['race'])\n",
        "plt.xlabel(\"Race\")\n",
        "plt.ylabel(\"Count\")\n",
        "plt.title('Patient race histogram')\n",
        "plt.show"
      ],
      "metadata": {
        "id": "ZHskTU4H5VhW",
        "colab": {
          "base_uri": "https://localhost:8080/",
          "height": 475
        },
        "outputId": "0218b726-d89a-466f-ec41-015de626710a"
      },
      "execution_count": null,
      "outputs": [
        {
          "output_type": "execute_result",
          "data": {
            "text/plain": [
              "<function matplotlib.pyplot.show>"
            ]
          },
          "metadata": {},
          "execution_count": 37
        },
        {
          "output_type": "display_data",
          "data": {
            "text/plain": [
              "<Figure size 720x504 with 1 Axes>"
            ],
            "image/png": "[encoded data removed]"
          },
          "metadata": {
            "needs_background": "light"
          }
        }
      ]
    },
    {
      "cell_type": "markdown",
      "source": [
        "Gender is a nominal variable with values and distribution:"
      ],
      "metadata": {
        "id": "XB4kiIt70FSF"
      }
    },
    {
      "cell_type": "code",
      "source": [
        "print(np.unique(data_raw['gender']))"
      ],
      "metadata": {
        "colab": {
          "base_uri": "https://localhost:8080/"
        },
        "id": "o7IaqNlgxsjg",
        "outputId": "99d41e13-eeac-4f37-8c68-68e0283919c5"
      },
      "execution_count": null,
      "outputs": [
        {
          "output_type": "stream",
          "name": "stdout",
          "text": [
            "['Female' 'Male' 'Unknown/Invalid']\n"
          ]
        }
      ]
    },
    {
      "cell_type": "code",
      "source": [
        "print(data_raw['gender'].describe())"
      ],
      "metadata": {
        "colab": {
          "base_uri": "https://localhost:8080/"
        },
        "id": "T2VfpMRNxz8w",
        "outputId": "b45794ca-daef-4ed0-89b7-38bff59ab886"
      },
      "execution_count": null,
      "outputs": [
        {
          "output_type": "stream",
          "name": "stdout",
          "text": [
            "count     101766\n",
            "unique         3\n",
            "top       Female\n",
            "freq       54708\n",
            "Name: gender, dtype: object\n"
          ]
        }
      ]
    },
    {
      "cell_type": "code",
      "source": [
        "fig, ax = plt.subplots(figsize =(10, 7))\n",
        "plt.hist(data_raw['gender'])\n",
        "plt.xlabel(\"Gender\")\n",
        "plt.ylabel(\"Count\")\n",
        "plt.title('Patient gender histogram')\n",
        "plt.show"
      ],
      "metadata": {
        "colab": {
          "base_uri": "https://localhost:8080/",
          "height": 475
        },
        "id": "ihEoJUHvx1_q",
        "outputId": "00c21a69-a291-4e60-ed1d-6cf88a59d7cd"
      },
      "execution_count": null,
      "outputs": [
        {
          "output_type": "execute_result",
          "data": {
            "text/plain": [
              "<function matplotlib.pyplot.show>"
            ]
          },
          "metadata": {},
          "execution_count": 40
        },
        {
          "output_type": "display_data",
          "data": {
            "text/plain": [
              "<Figure size 720x504 with 1 Axes>"
            ],
            "image/png": "[encoded data removed]"
          },
          "metadata": {
            "needs_background": "light"
          }
        }
      ]
    },
    {
      "cell_type": "markdown",
      "source": [
        "Age is a nominal variable grouped in intervals of 10 years and distribution:"
      ],
      "metadata": {
        "id": "Z7GVA9rj0wdK"
      }
    },
    {
      "cell_type": "code",
      "source": [
        "print(np.unique(data_raw['age']))"
      ],
      "metadata": {
        "colab": {
          "base_uri": "https://localhost:8080/"
        },
        "id": "poc4DBE8yMco",
        "outputId": "0eac87ca-1908-4008-e008-326a56a825e3"
      },
      "execution_count": null,
      "outputs": [
        {
          "output_type": "stream",
          "name": "stdout",
          "text": [
            "['[0-10)' '[10-20)' '[20-30)' '[30-40)' '[40-50)' '[50-60)' '[60-70)'\n",
            " '[70-80)' '[80-90)' '[90-100)']\n"
          ]
        }
      ]
    },
    {
      "cell_type": "code",
      "source": [
        "print(data_raw['age'].describe())"
      ],
      "metadata": {
        "colab": {
          "base_uri": "https://localhost:8080/"
        },
        "id": "aLv0Y_LryQEB",
        "outputId": "3a79836d-6862-4b3b-fbb2-360eea352992"
      },
      "execution_count": null,
      "outputs": [
        {
          "output_type": "stream",
          "name": "stdout",
          "text": [
            "count      101766\n",
            "unique         10\n",
            "top       [70-80)\n",
            "freq        26068\n",
            "Name: age, dtype: object\n"
          ]
        }
      ]
    },
    {
      "cell_type": "code",
      "source": [
        "fig, ax = plt.subplots(figsize =(10, 7))\n",
        "plt.hist(data_raw['age'])\n",
        "plt.xlabel(\"Age\")\n",
        "plt.ylabel(\"Count\")\n",
        "plt.title('Patient age histogram')\n",
        "plt.show"
      ],
      "metadata": {
        "colab": {
          "base_uri": "https://localhost:8080/",
          "height": 475
        },
        "id": "Hn7Spo-uyQzG",
        "outputId": "139be117-61d5-4eb1-ef84-d4625dde5faf"
      },
      "execution_count": null,
      "outputs": [
        {
          "output_type": "execute_result",
          "data": {
            "text/plain": [
              "<function matplotlib.pyplot.show>"
            ]
          },
          "metadata": {},
          "execution_count": 43
        },
        {
          "output_type": "display_data",
          "data": {
            "text/plain": [
              "<Figure size 720x504 with 1 Axes>"
            ],
            "image/png": "[encoded data removed]"
          },
          "metadata": {
            "needs_background": "light"
          }
        }
      ]
    },
    {
      "cell_type": "markdown",
      "source": [
        "We will convert the intervals to integers during the data cleaning process."
      ],
      "metadata": {
        "id": "1Zv6yORg1McZ"
      }
    },
    {
      "cell_type": "code",
      "source": [
        "print(np.unique(data_raw['weight']))"
      ],
      "metadata": {
        "colab": {
          "base_uri": "https://localhost:8080/"
        },
        "id": "_h2-Yah9yzvw",
        "outputId": "5e1fe81f-f63e-4205-9502-e6e24b9cbffd"
      },
      "execution_count": null,
      "outputs": [
        {
          "output_type": "stream",
          "name": "stdout",
          "text": [
            "['>200' '?' '[0-25)' '[100-125)' '[125-150)' '[150-175)' '[175-200)'\n",
            " '[25-50)' '[50-75)' '[75-100)']\n"
          ]
        }
      ]
    },
    {
      "cell_type": "code",
      "source": [
        "print(data_raw['weight'].describe())"
      ],
      "metadata": {
        "colab": {
          "base_uri": "https://localhost:8080/"
        },
        "id": "n3WSEop2y5rT",
        "outputId": "29bf3c78-f54a-4dda-835e-5c39377c095b"
      },
      "execution_count": null,
      "outputs": [
        {
          "output_type": "stream",
          "name": "stdout",
          "text": [
            "count     101766\n",
            "unique        10\n",
            "top            ?\n",
            "freq       98569\n",
            "Name: weight, dtype: object\n"
          ]
        }
      ]
    },
    {
      "cell_type": "code",
      "source": [
        "fig, ax = plt.subplots(figsize =(10, 7))\n",
        "plt.hist(data_raw['weight'])\n",
        "plt.xlabel(\"Weight\")\n",
        "plt.ylabel(\"Count\")\n",
        "plt.title('Patient weight histogram')\n",
        "plt.show"
      ],
      "metadata": {
        "colab": {
          "base_uri": "https://localhost:8080/",
          "height": 475
        },
        "id": "FUAWfCCky7m5",
        "outputId": "a3c49fb3-c7b1-4803-d34c-103d4bcb9e7c"
      },
      "execution_count": null,
      "outputs": [
        {
          "output_type": "execute_result",
          "data": {
            "text/plain": [
              "<function matplotlib.pyplot.show>"
            ]
          },
          "metadata": {},
          "execution_count": 46
        },
        {
          "output_type": "display_data",
          "data": {
            "text/plain": [
              "<Figure size 720x504 with 1 Axes>"
            ],
            "image/png": "[encoded data removed]"
          },
          "metadata": {
            "needs_background": "light"
          }
        }
      ]
    },
    {
      "cell_type": "code",
      "source": [
        "print(np.unique(data_raw['admission_type_id']))\n",
        "print(data_raw['admission_type_id'].describe())"
      ],
      "metadata": {
        "colab": {
          "base_uri": "https://localhost:8080/"
        },
        "id": "cTMd1LfzCARL",
        "outputId": "15957612-18e7-494d-89cf-1f045a16f8b8"
      },
      "execution_count": null,
      "outputs": [
        {
          "output_type": "stream",
          "name": "stdout",
          "text": [
            "[1 2 3 4 5 6 7 8]\n",
            "count    101766.000000\n",
            "mean          2.024006\n",
            "std           1.445403\n",
            "min           1.000000\n",
            "25%           1.000000\n",
            "50%           1.000000\n",
            "75%           3.000000\n",
            "max           8.000000\n",
            "Name: admission_type_id, dtype: float64\n"
          ]
        }
      ]
    },
    {
      "cell_type": "markdown",
      "source": [
        "Most of the patients have '?' as their entry"
      ],
      "metadata": {
        "id": "Ni5RdWGoCGKZ"
      }
    },
    {
      "cell_type": "code",
      "source": [
        "fig, ax = plt.subplots(figsize =(10, 7))\n",
        "plt.hist(data_raw['admission_type_id'])\n",
        "plt.xlabel('admission type id')\n",
        "plt.ylabel(\"Count\")\n",
        "plt.title('Patient admission type id histogram')\n",
        "plt.show"
      ],
      "metadata": {
        "colab": {
          "base_uri": "https://localhost:8080/",
          "height": 475
        },
        "id": "bvTys4C9Cl5B",
        "outputId": "f1e767f3-d9aa-4995-dab9-60b3f11f60ec"
      },
      "execution_count": null,
      "outputs": [
        {
          "output_type": "execute_result",
          "data": {
            "text/plain": [
              "<function matplotlib.pyplot.show>"
            ]
          },
          "metadata": {},
          "execution_count": 48
        },
        {
          "output_type": "display_data",
          "data": {
            "text/plain": [
              "<Figure size 720x504 with 1 Axes>"
            ],
            "image/png": "[encoded data removed]"
          },
          "metadata": {
            "needs_background": "light"
          }
        }
      ]
    },
    {
      "cell_type": "markdown",
      "source": [
        "Admission type id is a numeric value that represents the 8 different types of admission to the hospital"
      ],
      "metadata": {
        "id": "hfxZlckUCsEM"
      }
    },
    {
      "cell_type": "code",
      "source": [
        "print(np.unique(data_raw['discharge_disposition_id']))\n",
        "print(data_raw['discharge_disposition_id'].describe())"
      ],
      "metadata": {
        "colab": {
          "base_uri": "https://localhost:8080/"
        },
        "id": "hndUF28mCn__",
        "outputId": "75ea1db8-64ca-4ce2-ed85-9b8b4edc6564"
      },
      "execution_count": null,
      "outputs": [
        {
          "output_type": "stream",
          "name": "stdout",
          "text": [
            "[ 1  2  3  4  5  6  7  8  9 10 11 12 13 14 15 16 17 18 19 20 22 23 24 25\n",
            " 27 28]\n",
            "count    101766.000000\n",
            "mean          3.715642\n",
            "std           5.280166\n",
            "min           1.000000\n",
            "25%           1.000000\n",
            "50%           1.000000\n",
            "75%           4.000000\n",
            "max          28.000000\n",
            "Name: discharge_disposition_id, dtype: float64\n"
          ]
        }
      ]
    },
    {
      "cell_type": "code",
      "source": [
        "fig, ax = plt.subplots(figsize =(10, 7))\n",
        "plt.hist(data_raw['discharge_disposition_id'])\n",
        "plt.xlabel('Discharge disposition id')\n",
        "plt.ylabel(\"Count\")\n",
        "plt.title('Patient discharge disposition id histogram')\n",
        "plt.show"
      ],
      "metadata": {
        "colab": {
          "base_uri": "https://localhost:8080/",
          "height": 475
        },
        "id": "Y_EDqy0tC067",
        "outputId": "b8fc3b72-12e3-4064-f58a-0a0eb885f1e4"
      },
      "execution_count": null,
      "outputs": [
        {
          "output_type": "execute_result",
          "data": {
            "text/plain": [
              "<function matplotlib.pyplot.show>"
            ]
          },
          "metadata": {},
          "execution_count": 51
        },
        {
          "output_type": "display_data",
          "data": {
            "text/plain": [
              "<Figure size 720x504 with 1 Axes>"
            ],
            "image/png": "[encoded data removed]"
          },
          "metadata": {
            "needs_background": "light"
          }
        }
      ]
    },
    {
      "cell_type": "markdown",
      "source": [
        "discharge_disposition_id is a numeric value that represents the 28 different types of discharge from the hospital. For example Discharged to home, Not available, etc"
      ],
      "metadata": {
        "id": "mAw6C7W_C2sN"
      }
    },
    {
      "cell_type": "code",
      "source": [
        "print(np.unique(data_raw['admission_source_id']))\n",
        "print(data_raw['admission_source_id'].describe())"
      ],
      "metadata": {
        "colab": {
          "base_uri": "https://localhost:8080/"
        },
        "id": "TOddng7xC3au",
        "outputId": "e989ff2d-efcf-4856-d2e7-6d4d43d78dda"
      },
      "execution_count": null,
      "outputs": [
        {
          "output_type": "stream",
          "name": "stdout",
          "text": [
            "[ 1  2  3  4  5  6  7  8  9 10 11 13 14 17 20 22 25]\n",
            "count    101766.000000\n",
            "mean          5.754437\n",
            "std           4.064081\n",
            "min           1.000000\n",
            "25%           1.000000\n",
            "50%           7.000000\n",
            "75%           7.000000\n",
            "max          25.000000\n",
            "Name: admission_source_id, dtype: float64\n"
          ]
        }
      ]
    },
    {
      "cell_type": "code",
      "source": [
        "fig, ax = plt.subplots(figsize =(10, 7))\n",
        "plt.hist(data_raw['admission_source_id'])\n",
        "plt.xlabel('Admission source id')\n",
        "plt.ylabel(\"Count\")\n",
        "plt.title('Patient admission_source_id histogram')\n",
        "plt.show"
      ],
      "metadata": {
        "colab": {
          "base_uri": "https://localhost:8080/",
          "height": 475
        },
        "id": "pCmUvu0yDHUO",
        "outputId": "841860d3-ab55-4b9c-d933-19dd994d663c"
      },
      "execution_count": null,
      "outputs": [
        {
          "output_type": "execute_result",
          "data": {
            "text/plain": [
              "<function matplotlib.pyplot.show>"
            ]
          },
          "metadata": {},
          "execution_count": 53
        },
        {
          "output_type": "display_data",
          "data": {
            "text/plain": [
              "<Figure size 720x504 with 1 Axes>"
            ],
            "image/png": "[encoded data removed]"
          },
          "metadata": {
            "needs_background": "light"
          }
        }
      ]
    },
    {
      "cell_type": "markdown",
      "source": [
        "time_in_hospital is a numerical variable with the number of days between admission and discharge"
      ],
      "metadata": {
        "id": "VvW7WIilEHOd"
      }
    },
    {
      "cell_type": "code",
      "source": [
        "print(np.unique(data_raw['time_in_hospital']))\n",
        "print(data_raw['time_in_hospital'].describe())\n",
        "fig, ax = plt.subplots(figsize =(10, 7))\n",
        "plt.hist(data_raw['time_in_hospital'])\n",
        "plt.xlabel('Time in hospital')\n",
        "plt.ylabel(\"Count\")\n",
        "plt.title('Patient time in hospital histogram')\n",
        "plt.show"
      ],
      "metadata": {
        "colab": {
          "base_uri": "https://localhost:8080/",
          "height": 649
        },
        "id": "xH2RP-qYD8V-",
        "outputId": "92b6909d-fa0a-4a54-9727-a7e866f5eed1"
      },
      "execution_count": null,
      "outputs": [
        {
          "output_type": "stream",
          "name": "stdout",
          "text": [
            "[ 1  2  3  4  5  6  7  8  9 10 11 12 13 14]\n",
            "count    101766.000000\n",
            "mean          4.395987\n",
            "std           2.985108\n",
            "min           1.000000\n",
            "25%           2.000000\n",
            "50%           4.000000\n",
            "75%           6.000000\n",
            "max          14.000000\n",
            "Name: time_in_hospital, dtype: float64\n"
          ]
        },
        {
          "output_type": "execute_result",
          "data": {
            "text/plain": [
              "<function matplotlib.pyplot.show>"
            ]
          },
          "metadata": {},
          "execution_count": 54
        },
        {
          "output_type": "display_data",
          "data": {
            "text/plain": [
              "<Figure size 720x504 with 1 Axes>"
            ],
            "image/png": "[encoded data removed]"
          },
          "metadata": {
            "needs_background": "light"
          }
        }
      ]
    },
    {
      "cell_type": "markdown",
      "source": [
        "'payer_code' refers to the method that patient will use to cover the costs of hospital stay and  'medical_specialty' is the specialty of refering doctor. We will not be using these 2 variables."
      ],
      "metadata": {
        "id": "ouGe6eyDEoOu"
      }
    },
    {
      "cell_type": "markdown",
      "source": [
        "'num_lab_procedures' is an integer with the number of lab procedures performed to patient \n",
        "\n",
        " 'num_procedures' is the number of procedures other than lab procedures performed to patient \n",
        " \n",
        "'num_medications' is an interger with the number of medications the patient is taking"
      ],
      "metadata": {
        "id": "9T3Ticm4E5tI"
      }
    },
    {
      "cell_type": "code",
      "source": [
        "fig, ax = plt.subplots(figsize =(10, 7))\n",
        "plt.hist(data_raw['num_lab_procedures'])\n",
        "plt.xlabel('Number of lab procedures')\n",
        "plt.ylabel(\"Count\")\n",
        "plt.title('Patient number of lab procedures histogram')\n",
        "plt.show"
      ],
      "metadata": {
        "colab": {
          "base_uri": "https://localhost:8080/",
          "height": 475
        },
        "id": "WfqeYd2DFoOi",
        "outputId": "839b37b3-49be-4ab4-bf1f-d14476efff55"
      },
      "execution_count": null,
      "outputs": [
        {
          "output_type": "execute_result",
          "data": {
            "text/plain": [
              "<function matplotlib.pyplot.show>"
            ]
          },
          "metadata": {},
          "execution_count": 55
        },
        {
          "output_type": "display_data",
          "data": {
            "text/plain": [
              "<Figure size 720x504 with 1 Axes>"
            ],
            "image/png": "[encoded data removed]"
          },
          "metadata": {
            "needs_background": "light"
          }
        }
      ]
    },
    {
      "cell_type": "code",
      "source": [
        "fig, ax = plt.subplots(figsize =(10, 7))\n",
        "plt.hist(data_raw['num_procedures'])\n",
        "plt.xlabel('Number of procedures')\n",
        "plt.ylabel(\"Count\")\n",
        "plt.title('Patient number of procedures histogram')\n",
        "plt.show"
      ],
      "metadata": {
        "colab": {
          "base_uri": "https://localhost:8080/",
          "height": 475
        },
        "id": "bTck3CteGHHF",
        "outputId": "89cbe369-7462-4a66-e470-1716f8b7b4e6"
      },
      "execution_count": null,
      "outputs": [
        {
          "output_type": "execute_result",
          "data": {
            "text/plain": [
              "<function matplotlib.pyplot.show>"
            ]
          },
          "metadata": {},
          "execution_count": 56
        },
        {
          "output_type": "display_data",
          "data": {
            "text/plain": [
              "<Figure size 720x504 with 1 Axes>"
            ],
            "image/png": "[encoded data removed]"
          },
          "metadata": {
            "needs_background": "light"
          }
        }
      ]
    },
    {
      "cell_type": "code",
      "source": [
        "fig, ax = plt.subplots(figsize =(10, 7))\n",
        "plt.hist(data_raw['num_medications'])\n",
        "plt.xlabel('Number of medications')\n",
        "plt.ylabel(\"Count\")\n",
        "plt.title('Patient number of medications histogram')\n",
        "plt.show"
      ],
      "metadata": {
        "colab": {
          "base_uri": "https://localhost:8080/",
          "height": 475
        },
        "id": "rcDjE78OGVhs",
        "outputId": "ad8d5116-bc31-4da4-a76e-ff08080c361f"
      },
      "execution_count": null,
      "outputs": [
        {
          "output_type": "execute_result",
          "data": {
            "text/plain": [
              "<function matplotlib.pyplot.show>"
            ]
          },
          "metadata": {},
          "execution_count": 57
        },
        {
          "output_type": "display_data",
          "data": {
            "text/plain": [
              "<Figure size 720x504 with 1 Axes>"
            ],
            "image/png": "[encoded data removed]"
          },
          "metadata": {
            "needs_background": "light"
          }
        }
      ]
    },
    {
      "cell_type": "markdown",
      "source": [
        "'number_outpatient', 'number_emergency', 'number_inpatient' are integers representing the number of visits(of each type) of the patient in the year preceding the encounter"
      ],
      "metadata": {
        "id": "bC6Blv1xGrg3"
      }
    },
    {
      "cell_type": "code",
      "source": [
        "print(np.unique(data_raw['number_outpatient']))\n",
        "print(data_raw['number_outpatient'].describe())\n",
        "fig, ax = plt.subplots(figsize =(10, 7))\n",
        "plt.hist(data_raw['number_outpatient'])\n",
        "plt.xlabel('Number of outpatient visits')\n",
        "plt.ylabel(\"Count\")\n",
        "plt.title('Patient number of outpatient visits histogram')\n",
        "plt.show"
      ],
      "metadata": {
        "colab": {
          "base_uri": "https://localhost:8080/",
          "height": 666
        },
        "id": "8hrGI0psGqx1",
        "outputId": "7d5aec78-b1e8-4f86-e996-997ac38fc130"
      },
      "execution_count": null,
      "outputs": [
        {
          "output_type": "stream",
          "name": "stdout",
          "text": [
            "[ 0  1  2  3  4  5  6  7  8  9 10 11 12 13 14 15 16 17 18 19 20 21 22 23\n",
            " 24 25 26 27 28 29 33 34 35 36 37 38 39 40 42]\n",
            "count    101766.000000\n",
            "mean          0.369357\n",
            "std           1.267265\n",
            "min           0.000000\n",
            "25%           0.000000\n",
            "50%           0.000000\n",
            "75%           0.000000\n",
            "max          42.000000\n",
            "Name: number_outpatient, dtype: float64\n"
          ]
        },
        {
          "output_type": "execute_result",
          "data": {
            "text/plain": [
              "<function matplotlib.pyplot.show>"
            ]
          },
          "metadata": {},
          "execution_count": 58
        },
        {
          "output_type": "display_data",
          "data": {
            "text/plain": [
              "<Figure size 720x504 with 1 Axes>"
            ],
            "image/png": "[encoded data removed]"
          },
          "metadata": {
            "needs_background": "light"
          }
        }
      ]
    },
    {
      "cell_type": "code",
      "source": [
        "print(np.unique(data_raw['number_emergency']))\n",
        "print(data_raw['number_emergency'].describe())\n",
        "fig, ax = plt.subplots(figsize =(10, 7))\n",
        "plt.hist(data_raw['number_emergency'])\n",
        "plt.xlabel('Number of emergency visits')\n",
        "plt.ylabel(\"Count\")\n",
        "plt.title('Patient number of emergency visits histogram')\n",
        "plt.show"
      ],
      "metadata": {
        "colab": {
          "base_uri": "https://localhost:8080/",
          "height": 666
        },
        "id": "dVKA7kJuHrVZ",
        "outputId": "ba2172e1-8dce-4a6e-a68d-757eaab3d304"
      },
      "execution_count": null,
      "outputs": [
        {
          "output_type": "stream",
          "name": "stdout",
          "text": [
            "[ 0  1  2  3  4  5  6  7  8  9 10 11 12 13 14 15 16 18 19 20 21 22 24 25\n",
            " 28 29 37 42 46 54 63 64 76]\n",
            "count    101766.000000\n",
            "mean          0.197836\n",
            "std           0.930472\n",
            "min           0.000000\n",
            "25%           0.000000\n",
            "50%           0.000000\n",
            "75%           0.000000\n",
            "max          76.000000\n",
            "Name: number_emergency, dtype: float64\n"
          ]
        },
        {
          "output_type": "execute_result",
          "data": {
            "text/plain": [
              "<function matplotlib.pyplot.show>"
            ]
          },
          "metadata": {},
          "execution_count": 59
        },
        {
          "output_type": "display_data",
          "data": {
            "text/plain": [
              "<Figure size 720x504 with 1 Axes>"
            ],
            "image/png": "[encoded data removed]"
          },
          "metadata": {
            "needs_background": "light"
          }
        }
      ]
    },
    {
      "cell_type": "code",
      "source": [
        "print(np.unique(data_raw['number_inpatient']))\n",
        "print(data_raw['number_inpatient'].describe())\n",
        "fig, ax = plt.subplots(figsize =(10, 7))\n",
        "plt.hist(data_raw['number_inpatient'])\n",
        "plt.xlabel('Number of inpatient visits')\n",
        "plt.ylabel(\"Count\")\n",
        "plt.title('Patient number of inpatient visits histogram')\n",
        "plt.show"
      ],
      "metadata": {
        "colab": {
          "base_uri": "https://localhost:8080/",
          "height": 649
        },
        "id": "uSXuHhEVH9NJ",
        "outputId": "8dfabe2b-745f-4fac-9e07-5c62cb814987"
      },
      "execution_count": null,
      "outputs": [
        {
          "output_type": "stream",
          "name": "stdout",
          "text": [
            "[ 0  1  2  3  4  5  6  7  8  9 10 11 12 13 14 15 16 17 18 19 21]\n",
            "count    101766.000000\n",
            "mean          0.635566\n",
            "std           1.262863\n",
            "min           0.000000\n",
            "25%           0.000000\n",
            "50%           0.000000\n",
            "75%           1.000000\n",
            "max          21.000000\n",
            "Name: number_inpatient, dtype: float64\n"
          ]
        },
        {
          "output_type": "execute_result",
          "data": {
            "text/plain": [
              "<function matplotlib.pyplot.show>"
            ]
          },
          "metadata": {},
          "execution_count": 60
        },
        {
          "output_type": "display_data",
          "data": {
            "text/plain": [
              "<Figure size 720x504 with 1 Axes>"
            ],
            "image/png": "[encoded data removed]"
          },
          "metadata": {
            "needs_background": "light"
          }
        }
      ]
    },
    {
      "cell_type": "markdown",
      "source": [
        "The number of visits is very skewed to the left, but it makes sense since that most patients won't visit the hospital more than 3 times a year"
      ],
      "metadata": {
        "id": "4wrsUPxMHg3M"
      }
    },
    {
      "cell_type": "markdown",
      "source": [
        "'diag_1', 'diag_2', 'diag_3 are the diagnosis given to the patient. In the data a different diagnosis is a different number"
      ],
      "metadata": {
        "id": "D9eZj4kKIjxK"
      }
    },
    {
      "cell_type": "code",
      "source": [
        "print(np.unique(data_raw['diag_1']))"
      ],
      "metadata": {
        "colab": {
          "base_uri": "https://localhost:8080/"
        },
        "id": "3WsftFh-I310",
        "outputId": "eff868df-1414-4b81-b396-365a5f96a029"
      },
      "execution_count": null,
      "outputs": [
        {
          "output_type": "stream",
          "name": "stdout",
          "text": [
            "['10' '11' '110' '112' '114' '115' '117' '131' '133' '135' '136' '141'\n",
            " '142' '143' '145' '146' '147' '148' '149' '150' '151' '152' '153' '154'\n",
            " '155' '156' '157' '158' '160' '161' '162' '163' '164' '170' '171' '172'\n",
            " '173' '174' '175' '179' '180' '182' '183' '184' '185' '187' '188' '189'\n",
            " '191' '192' '193' '194' '195' '196' '197' '198' '199' '200' '201' '202'\n",
            " '203' '204' '205' '207' '208' '210' '211' '212' '214' '215' '216' '217'\n",
            " '218' '219' '220' '223' '225' '226' '227' '228' '229' '23' '230' '233'\n",
            " '235' '236' '237' '238' '239' '240' '241' '242' '244' '245' '246' '250'\n",
            " '250.01' '250.02' '250.03' '250.1' '250.11' '250.12' '250.13' '250.2'\n",
            " '250.21' '250.22' '250.23' '250.3' '250.31' '250.32' '250.33' '250.4'\n",
            " '250.41' '250.42' '250.43' '250.5' '250.51' '250.52' '250.53' '250.6'\n",
            " '250.7' '250.8' '250.81' '250.82' '250.83' '250.9' '250.91' '250.92'\n",
            " '250.93' '251' '252' '253' '255' '261' '262' '263' '266' '27' '271' '272'\n",
            " '273' '274' '275' '276' '277' '278' '279' '280' '281' '282' '283' '284'\n",
            " '285' '286' '287' '288' '289' '290' '291' '292' '293' '294' '295' '296'\n",
            " '297' '298' '299' '3' '300' '301' '303' '304' '305' '306' '307' '308'\n",
            " '309' '31' '310' '311' '312' '314' '318' '320' '322' '323' '324' '325'\n",
            " '327' '331' '332' '333' '334' '335' '336' '337' '338' '34' '340' '341'\n",
            " '342' '344' '345' '346' '347' '348' '349' '35' '350' '351' '352' '353'\n",
            " '354' '355' '356' '357' '358' '359' '36' '360' '361' '362' '363' '365'\n",
            " '366' '368' '369' '370' '372' '373' '374' '375' '376' '377' '378' '379'\n",
            " '38' '380' '381' '382' '383' '384' '385' '386' '388' '389' '39' '391'\n",
            " '394' '395' '396' '397' '398' '401' '402' '403' '404' '405' '41' '410'\n",
            " '411' '412' '413' '414' '415' '416' '417' '42' '420' '421' '422' '423'\n",
            " '424' '425' '426' '427' '428' '429' '430' '431' '432' '433' '434' '435'\n",
            " '436' '437' '438' '440' '441' '442' '443' '444' '445' '446' '447' '448'\n",
            " '451' '452' '453' '454' '455' '456' '457' '458' '459' '461' '462' '463'\n",
            " '464' '465' '466' '47' '470' '471' '473' '474' '475' '477' '478' '48'\n",
            " '480' '481' '482' '483' '485' '486' '487' '49' '490' '491' '492' '493'\n",
            " '494' '495' '496' '5' '500' '501' '506' '507' '508' '510' '511' '512'\n",
            " '513' '514' '515' '516' '518' '519' '52' '521' '522' '523' '524' '526'\n",
            " '527' '528' '529' '53' '530' '531' '532' '533' '534' '535' '536' '537'\n",
            " '54' '540' '541' '542' '543' '550' '551' '552' '553' '555' '556' '557'\n",
            " '558' '560' '562' '564' '565' '566' '567' '568' '569' '57' '570' '571'\n",
            " '572' '573' '574' '575' '576' '577' '578' '579' '58' '580' '581' '582'\n",
            " '583' '584' '585' '586' '588' '590' '591' '592' '593' '594' '595' '596'\n",
            " '598' '599' '600' '601' '602' '603' '604' '605' '607' '608' '61' '610'\n",
            " '611' '614' '615' '616' '617' '618' '619' '620' '621' '622' '623' '625'\n",
            " '626' '627' '632' '633' '634' '637' '640' '641' '642' '643' '644' '645'\n",
            " '646' '647' '648' '649' '652' '653' '654' '655' '656' '657' '658' '659'\n",
            " '66' '660' '661' '663' '664' '665' '669' '671' '674' '680' '681' '682'\n",
            " '683' '684' '685' '686' '690' '691' '692' '693' '694' '695' '696' '698'\n",
            " '7' '70' '700' '703' '704' '705' '706' '707' '708' '709' '710' '711'\n",
            " '714' '715' '716' '717' '718' '719' '720' '721' '722' '723' '724' '725'\n",
            " '726' '727' '728' '729' '730' '731' '732' '733' '734' '735' '736' '737'\n",
            " '738' '745' '746' '747' '75' '751' '753' '756' '759' '78' '780' '781'\n",
            " '782' '783' '784' '785' '786' '787' '788' '789' '79' '790' '791' '792'\n",
            " '793' '794' '795' '796' '797' '799' '8' '800' '801' '802' '803' '804'\n",
            " '805' '806' '807' '808' '810' '812' '813' '814' '815' '816' '817' '82'\n",
            " '820' '821' '822' '823' '824' '825' '826' '827' '831' '832' '833' '834'\n",
            " '835' '836' '837' '838' '839' '84' '840' '842' '843' '844' '845' '846'\n",
            " '847' '848' '850' '851' '852' '853' '854' '860' '861' '862' '863' '864'\n",
            " '865' '866' '867' '868' '870' '871' '873' '875' '878' '879' '88' '880'\n",
            " '881' '882' '883' '885' '886' '890' '891' '892' '893' '895' '897' '9'\n",
            " '903' '904' '906' '911' '913' '914' '915' '916' '917' '919' '920' '921'\n",
            " '922' '923' '924' '928' '933' '934' '935' '936' '939' '94' '941' '942'\n",
            " '944' '945' '952' '955' '957' '958' '959' '962' '963' '964' '965' '966'\n",
            " '967' '968' '969' '97' '970' '971' '972' '973' '974' '975' '976' '977'\n",
            " '98' '980' '982' '983' '986' '987' '988' '989' '990' '991' '992' '994'\n",
            " '995' '996' '997' '998' '999' '?' 'E909' 'V07' 'V25' 'V26' 'V43' 'V45'\n",
            " 'V51' 'V53' 'V54' 'V55' 'V56' 'V57' 'V58' 'V60' 'V63' 'V66' 'V67' 'V70'\n",
            " 'V71']\n"
          ]
        }
      ]
    },
    {
      "cell_type": "code",
      "source": [
        "print(np.unique(data_raw['diag_2']))"
      ],
      "metadata": {
        "colab": {
          "base_uri": "https://localhost:8080/"
        },
        "id": "ApbacaOhI9I3",
        "outputId": "271c868d-699d-4a3f-9115-dfe887756c13"
      },
      "execution_count": null,
      "outputs": [
        {
          "output_type": "stream",
          "name": "stdout",
          "text": [
            "['11' '110' '111' '112' '114' '115' '117' '123' '130' '131' '135' '136'\n",
            " '137' '138' '140' '141' '145' '150' '151' '152' '153' '154' '155' '156'\n",
            " '157' '162' '163' '164' '171' '172' '173' '174' '179' '180' '182' '183'\n",
            " '185' '186' '188' '189' '191' '192' '193' '195' '196' '197' '198' '199'\n",
            " '200' '201' '202' '203' '204' '205' '208' '211' '212' '214' '215' '217'\n",
            " '218' '220' '223' '225' '226' '227' '228' '232' '233' '235' '238' '239'\n",
            " '240' '241' '242' '244' '245' '246' '250' '250.01' '250.02' '250.03'\n",
            " '250.1' '250.11' '250.12' '250.13' '250.2' '250.21' '250.22' '250.23'\n",
            " '250.3' '250.31' '250.32' '250.33' '250.4' '250.41' '250.42' '250.43'\n",
            " '250.5' '250.51' '250.52' '250.53' '250.6' '250.7' '250.8' '250.81'\n",
            " '250.82' '250.83' '250.9' '250.91' '250.92' '250.93' '251' '252' '253'\n",
            " '255' '256' '258' '259' '260' '261' '262' '263' '266' '268' '269' '27'\n",
            " '270' '271' '272' '273' '274' '275' '276' '277' '278' '279' '280' '281'\n",
            " '282' '283' '284' '285' '286' '287' '288' '289' '290' '291' '292' '293'\n",
            " '294' '295' '296' '297' '298' '299' '300' '301' '302' '303' '304' '305'\n",
            " '306' '307' '308' '309' '31' '310' '311' '312' '314' '316' '317' '318'\n",
            " '319' '320' '322' '323' '324' '325' '327' '331' '332' '333' '335' '336'\n",
            " '337' '338' '34' '340' '341' '342' '343' '344' '345' '346' '347' '348'\n",
            " '349' '35' '350' '351' '352' '353' '354' '355' '356' '357' '358' '359'\n",
            " '360' '362' '364' '365' '366' '368' '369' '372' '373' '374' '376' '377'\n",
            " '378' '379' '38' '380' '381' '382' '383' '386' '388' '389' '394' '395'\n",
            " '396' '397' '398' '40' '401' '402' '403' '404' '405' '41' '410' '411'\n",
            " '412' '413' '414' '415' '416' '42' '420' '421' '422' '423' '424' '425'\n",
            " '426' '427' '428' '429' '430' '431' '432' '433' '434' '435' '436' '437'\n",
            " '438' '440' '441' '442' '443' '444' '446' '447' '448' '451' '452' '453'\n",
            " '454' '455' '456' '457' '458' '459' '46' '460' '461' '462' '463' '464'\n",
            " '465' '466' '470' '472' '473' '474' '475' '477' '478' '480' '481' '482'\n",
            " '483' '484' '485' '486' '487' '490' '491' '492' '493' '494' '495' '496'\n",
            " '5' '500' '501' '506' '507' '508' '510' '511' '512' '513' '514' '515'\n",
            " '516' '517' '518' '519' '52' '520' '521' '522' '523' '524' '527' '528'\n",
            " '529' '53' '530' '531' '532' '533' '534' '535' '536' '537' '54' '540'\n",
            " '542' '543' '550' '552' '553' '555' '556' '557' '558' '560' '562' '564'\n",
            " '565' '566' '567' '568' '569' '570' '571' '572' '573' '574' '575' '576'\n",
            " '577' '578' '579' '580' '581' '583' '584' '585' '586' '588' '590' '591'\n",
            " '592' '593' '594' '595' '596' '598' '599' '600' '601' '602' '603' '604'\n",
            " '605' '607' '608' '610' '611' '614' '615' '616' '617' '618' '619' '620'\n",
            " '621' '622' '623' '625' '626' '627' '634' '641' '642' '644' '645' '646'\n",
            " '647' '648' '649' '652' '654' '656' '658' '659' '66' '661' '663' '664'\n",
            " '665' '670' '674' '680' '681' '682' '683' '684' '685' '686' '691' '692'\n",
            " '693' '694' '695' '696' '698' '7' '70' '701' '702' '703' '704' '705'\n",
            " '706' '707' '709' '710' '711' '712' '713' '714' '715' '716' '717' '718'\n",
            " '719' '721' '722' '723' '724' '725' '726' '727' '728' '729' '730' '731'\n",
            " '733' '734' '736' '737' '738' '741' '742' '745' '746' '747' '748' '75'\n",
            " '750' '751' '752' '753' '754' '755' '756' '758' '759' '78' '780' '781'\n",
            " '782' '783' '784' '785' '786' '787' '788' '789' '79' '790' '791' '792'\n",
            " '793' '794' '795' '796' '797' '799' '8' '800' '801' '802' '805' '806'\n",
            " '807' '808' '810' '811' '812' '813' '814' '815' '816' '820' '821' '822'\n",
            " '823' '824' '825' '826' '831' '832' '833' '836' '837' '840' '842' '843'\n",
            " '844' '845' '846' '847' '850' '851' '852' '853' '860' '861' '862' '863'\n",
            " '864' '865' '866' '867' '868' '869' '870' '871' '872' '873' '879' '88'\n",
            " '880' '881' '882' '883' '884' '891' '892' '893' '894' '9' '905' '906'\n",
            " '907' '908' '909' '910' '911' '912' '913' '915' '916' '917' '918' '919'\n",
            " '920' '921' '922' '923' '924' '927' '933' '934' '94' '942' '944' '945'\n",
            " '947' '948' '952' '953' '955' '958' '959' '96' '962' '963' '965' '967'\n",
            " '968' '969' '972' '974' '975' '977' '980' '987' '989' '99' '990' '991'\n",
            " '992' '994' '995' '996' '997' '998' '999' '?' 'E812' 'E813' 'E814' 'E816'\n",
            " 'E817' 'E818' 'E819' 'E821' 'E826' 'E829' 'E849' 'E850' 'E853' 'E854'\n",
            " 'E858' 'E868' 'E870' 'E878' 'E879' 'E880' 'E881' 'E882' 'E883' 'E884'\n",
            " 'E885' 'E887' 'E888' 'E890' 'E900' 'E905' 'E906' 'E915' 'E916' 'E917'\n",
            " 'E918' 'E919' 'E924' 'E927' 'E928' 'E929' 'E930' 'E931' 'E932' 'E933'\n",
            " 'E934' 'E935' 'E936' 'E937' 'E938' 'E939' 'E941' 'E942' 'E944' 'E945'\n",
            " 'E947' 'E950' 'E965' 'E968' 'E980' 'V02' 'V03' 'V08' 'V09' 'V10' 'V11'\n",
            " 'V12' 'V13' 'V14' 'V15' 'V16' 'V17' 'V18' 'V23' 'V25' 'V42' 'V43' 'V44'\n",
            " 'V45' 'V46' 'V49' 'V50' 'V53' 'V54' 'V55' 'V57' 'V58' 'V60' 'V61' 'V62'\n",
            " 'V63' 'V64' 'V65' 'V66' 'V69' 'V70' 'V72' 'V85' 'V86']\n"
          ]
        }
      ]
    },
    {
      "cell_type": "code",
      "source": [
        "print(np.unique(data_raw['diag_3']))"
      ],
      "metadata": {
        "colab": {
          "base_uri": "https://localhost:8080/"
        },
        "id": "h2yWVpO1I-RQ",
        "outputId": "c328baab-cdf4-494c-a568-d18cd632186b"
      },
      "execution_count": null,
      "outputs": [
        {
          "output_type": "stream",
          "name": "stdout",
          "text": [
            "['11' '110' '111' '112' '115' '117' '122' '123' '131' '132' '135' '136'\n",
            " '138' '139' '14' '141' '146' '148' '150' '151' '152' '153' '154' '155'\n",
            " '156' '157' '158' '161' '162' '163' '164' '17' '170' '171' '172' '173'\n",
            " '174' '175' '179' '180' '182' '183' '185' '186' '188' '189' '191' '192'\n",
            " '193' '195' '196' '197' '198' '199' '200' '201' '202' '203' '204' '205'\n",
            " '208' '211' '214' '215' '216' '217' '218' '220' '223' '225' '226' '227'\n",
            " '228' '230' '233' '235' '236' '238' '239' '240' '241' '242' '243' '244'\n",
            " '245' '246' '250' '250.01' '250.02' '250.03' '250.1' '250.11' '250.12'\n",
            " '250.13' '250.2' '250.21' '250.22' '250.23' '250.3' '250.31' '250.4'\n",
            " '250.41' '250.42' '250.43' '250.5' '250.51' '250.52' '250.53' '250.6'\n",
            " '250.7' '250.8' '250.81' '250.82' '250.83' '250.9' '250.91' '250.92'\n",
            " '250.93' '251' '252' '253' '255' '256' '258' '259' '260' '261' '262'\n",
            " '263' '265' '266' '268' '27' '270' '271' '272' '273' '274' '275' '276'\n",
            " '277' '278' '279' '280' '281' '282' '283' '284' '285' '286' '287' '288'\n",
            " '289' '290' '291' '292' '293' '294' '295' '296' '297' '298' '299' '3'\n",
            " '300' '301' '303' '304' '305' '306' '307' '308' '309' '310' '311' '312'\n",
            " '313' '314' '315' '317' '318' '319' '323' '327' '331' '332' '333' '334'\n",
            " '335' '336' '337' '338' '34' '340' '341' '342' '343' '344' '345' '346'\n",
            " '347' '348' '349' '35' '350' '351' '353' '354' '355' '356' '357' '358'\n",
            " '359' '360' '361' '362' '365' '365.44' '366' '368' '369' '370' '372'\n",
            " '373' '374' '376' '377' '378' '379' '38' '380' '381' '382' '383' '384'\n",
            " '385' '386' '387' '388' '389' '391' '394' '395' '396' '397' '398' '401'\n",
            " '402' '403' '404' '405' '41' '410' '411' '412' '413' '414' '415' '416'\n",
            " '417' '42' '420' '421' '423' '424' '425' '426' '427' '428' '429' '430'\n",
            " '431' '432' '433' '434' '435' '436' '437' '438' '440' '441' '442' '443'\n",
            " '444' '445' '446' '447' '448' '451' '452' '453' '454' '455' '456' '457'\n",
            " '458' '459' '460' '461' '462' '463' '464' '465' '466' '47' '470' '472'\n",
            " '473' '475' '477' '478' '480' '481' '482' '483' '484' '485' '486' '487'\n",
            " '49' '490' '491' '492' '493' '494' '495' '496' '5' '500' '501' '506'\n",
            " '507' '508' '510' '511' '512' '514' '515' '516' '517' '518' '519' '521'\n",
            " '522' '523' '524' '525' '527' '528' '529' '53' '530' '531' '532' '533'\n",
            " '534' '535' '536' '537' '538' '54' '540' '542' '543' '550' '552' '553'\n",
            " '555' '556' '557' '558' '560' '562' '564' '565' '566' '567' '568' '569'\n",
            " '57' '570' '571' '572' '573' '574' '575' '576' '577' '578' '579' '580'\n",
            " '581' '582' '583' '584' '585' '586' '588' '590' '591' '592' '593' '594'\n",
            " '595' '596' '597' '598' '599' '600' '601' '602' '603' '604' '605' '607'\n",
            " '608' '610' '611' '614' '616' '617' '618' '619' '620' '621' '622' '623'\n",
            " '624' '625' '626' '627' '641' '642' '643' '644' '646' '647' '648' '649'\n",
            " '652' '653' '654' '655' '656' '657' '658' '659' '66' '660' '661' '663'\n",
            " '664' '665' '669' '670' '671' '674' '680' '681' '682' '684' '685' '686'\n",
            " '690' '692' '693' '694' '695' '696' '697' '698' '7' '70' '701' '702'\n",
            " '703' '704' '705' '706' '707' '708' '709' '710' '711' '712' '713' '714'\n",
            " '715' '716' '717' '718' '719' '720' '721' '722' '723' '724' '725' '726'\n",
            " '727' '728' '729' '730' '731' '732' '733' '734' '735' '736' '737' '738'\n",
            " '741' '742' '744' '745' '746' '747' '75' '750' '751' '752' '753' '754'\n",
            " '755' '756' '757' '758' '759' '78' '780' '781' '782' '783' '784' '785'\n",
            " '786' '787' '788' '789' '79' '790' '791' '792' '793' '794' '795' '796'\n",
            " '797' '799' '8' '800' '801' '802' '805' '807' '808' '810' '811' '812'\n",
            " '813' '814' '815' '816' '820' '821' '822' '823' '824' '825' '826' '831'\n",
            " '834' '836' '837' '838' '840' '841' '842' '844' '845' '847' '848' '850'\n",
            " '851' '852' '853' '854' '860' '861' '862' '863' '864' '865' '866' '867'\n",
            " '868' '870' '871' '872' '873' '875' '876' '877' '879' '88' '880' '881'\n",
            " '882' '883' '884' '890' '891' '892' '893' '9' '905' '906' '907' '908'\n",
            " '909' '910' '911' '912' '913' '915' '916' '917' '918' '919' '920' '921'\n",
            " '922' '923' '924' '928' '930' '933' '934' '935' '94' '942' '943' '944'\n",
            " '945' '948' '951' '952' '953' '955' '956' '958' '959' '962' '965' '966'\n",
            " '967' '969' '970' '971' '972' '980' '987' '989' '991' '992' '995' '996'\n",
            " '997' '998' '999' '?' 'E812' 'E813' 'E815' 'E816' 'E817' 'E818' 'E819'\n",
            " 'E822' 'E825' 'E826' 'E828' 'E849' 'E850' 'E852' 'E853' 'E854' 'E855'\n",
            " 'E858' 'E861' 'E864' 'E865' 'E870' 'E876' 'E878' 'E879' 'E880' 'E881'\n",
            " 'E882' 'E883' 'E884' 'E885' 'E886' 'E887' 'E888' 'E892' 'E894' 'E900'\n",
            " 'E901' 'E904' 'E905' 'E906' 'E912' 'E915' 'E916' 'E917' 'E919' 'E920'\n",
            " 'E922' 'E924' 'E927' 'E928' 'E929' 'E930' 'E931' 'E932' 'E933' 'E934'\n",
            " 'E935' 'E936' 'E937' 'E938' 'E939' 'E941' 'E942' 'E943' 'E944' 'E945'\n",
            " 'E946' 'E947' 'E949' 'E950' 'E955' 'E956' 'E965' 'E966' 'E980' 'E987'\n",
            " 'V01' 'V02' 'V03' 'V06' 'V07' 'V08' 'V09' 'V10' 'V11' 'V12' 'V13' 'V14'\n",
            " 'V15' 'V16' 'V17' 'V18' 'V22' 'V23' 'V25' 'V27' 'V42' 'V43' 'V44' 'V45'\n",
            " 'V46' 'V49' 'V53' 'V54' 'V55' 'V57' 'V58' 'V60' 'V61' 'V62' 'V63' 'V64'\n",
            " 'V65' 'V66' 'V70' 'V72' 'V85' 'V86']\n"
          ]
        }
      ]
    },
    {
      "cell_type": "markdown",
      "source": [
        "There are too many of them, but if needed we will encode them and use them for later experiments"
      ],
      "metadata": {
        "id": "JRvAxkBHJNCB"
      }
    },
    {
      "cell_type": "markdown",
      "source": [
        "'number_diagnoses' is a numerical value with the number of diagnoses for each patient. A patient may have different conditions besides diabetes."
      ],
      "metadata": {
        "id": "1DYypj_bJ7k9"
      }
    },
    {
      "cell_type": "code",
      "source": [
        "fig, ax = plt.subplots(figsize =(10, 7))\n",
        "plt.hist(data_raw['number_diagnoses'])\n",
        "plt.xlabel('Number of diagnoses')\n",
        "plt.ylabel(\"Count\")\n",
        "plt.title('Patient number of diagnoses histogram')\n",
        "plt.show"
      ],
      "metadata": {
        "colab": {
          "base_uri": "https://localhost:8080/",
          "height": 475
        },
        "id": "KhqNeC84JbUk",
        "outputId": "f500458e-3e1b-4bb5-d6b5-a5d41150d34f"
      },
      "execution_count": null,
      "outputs": [
        {
          "output_type": "execute_result",
          "data": {
            "text/plain": [
              "<function matplotlib.pyplot.show>"
            ]
          },
          "metadata": {},
          "execution_count": 64
        },
        {
          "output_type": "display_data",
          "data": {
            "text/plain": [
              "<Figure size 720x504 with 1 Axes>"
            ],
            "image/png": "[encoded data removed]"
          },
          "metadata": {
            "needs_background": "light"
          }
        }
      ]
    },
    {
      "cell_type": "markdown",
      "source": [
        "'max_glu_serum' is a nominal varaible that indicates the range of the result or if the test was not taken."
      ],
      "metadata": {
        "id": "vzH4tGJ_KaYv"
      }
    },
    {
      "cell_type": "code",
      "source": [
        "fig, ax = plt.subplots(figsize =(10, 7))\n",
        "plt.hist(data_raw['max_glu_serum'])\n",
        "plt.xlabel('Max glu serum result')\n",
        "plt.ylabel(\"Count\")\n",
        "plt.title('Patient max glu serum result histogram')\n",
        "plt.show"
      ],
      "metadata": {
        "colab": {
          "base_uri": "https://localhost:8080/",
          "height": 475
        },
        "id": "WszeVeH0KRwQ",
        "outputId": "966eaa7f-618b-4f6d-9a31-0024f64640a8"
      },
      "execution_count": null,
      "outputs": [
        {
          "output_type": "execute_result",
          "data": {
            "text/plain": [
              "<function matplotlib.pyplot.show>"
            ]
          },
          "metadata": {},
          "execution_count": 65
        },
        {
          "output_type": "display_data",
          "data": {
            "text/plain": [
              "<Figure size 720x504 with 1 Axes>"
            ],
            "image/png": "[encoded data removed]"
          },
          "metadata": {
            "needs_background": "light"
          }
        }
      ]
    },
    {
      "cell_type": "markdown",
      "source": [
        "'A1Cresult' is a nominal varaible that indicates the range of the result or if the test was not taken."
      ],
      "metadata": {
        "id": "Kk0kpQgpK38P"
      }
    },
    {
      "cell_type": "code",
      "source": [
        "fig, ax = plt.subplots(figsize =(10, 7))\n",
        "plt.hist(data_raw['A1Cresult'])\n",
        "plt.xlabel('A1 test result')\n",
        "plt.ylabel(\"Count\")\n",
        "plt.title('Patient A1 test result histogram')\n",
        "plt.show"
      ],
      "metadata": {
        "colab": {
          "base_uri": "https://localhost:8080/",
          "height": 475
        },
        "id": "MqWeE2ZlLN5k",
        "outputId": "3964368d-8a07-4ed8-f25d-e7683a5aaf73"
      },
      "execution_count": null,
      "outputs": [
        {
          "output_type": "execute_result",
          "data": {
            "text/plain": [
              "<function matplotlib.pyplot.show>"
            ]
          },
          "metadata": {},
          "execution_count": 66
        },
        {
          "output_type": "display_data",
          "data": {
            "text/plain": [
              "<Figure size 720x504 with 1 Axes>"
            ],
            "image/png": "[encoded data removed]"
          },
          "metadata": {
            "needs_background": "light"
          }
        }
      ]
    },
    {
      "cell_type": "markdown",
      "source": [
        "'metformin', 'repaglinide', 'nateglinide', 'chlorpropamide',\n",
        "       'glimepiride', 'acetohexamide', 'glipizide', 'glyburide', 'tolbutamide',\n",
        "       'pioglitazone', 'rosiglitazone', 'acarbose', 'miglitol', 'troglitazone',\n",
        "       'tolazamide', 'examide', 'citoglipton', 'insulin',\n",
        "       'glyburide-metformin', 'glipizide-metformin',\n",
        "       'glimepiride-pioglitazone', 'metformin-rosiglitazone',\n",
        "       'metformin-pioglitazone' are the manes of medications a patient could be taking. For each patient, the values can be 'up' if the dosage was increased, 'down' if the dosage was decreased, 'steady' if the dosage did not change, and 'no' if the drug was not prescribed. We don't look at the distribution of values, since we don't use these variables for our initial experiments. "
      ],
      "metadata": {
        "id": "kQpQ6x7HLbmO"
      }
    },
    {
      "cell_type": "markdown",
      "source": [
        "'change' is a nominal varaible that denotes if there was a change in medication.\n",
        "\n",
        "'diabetesMed' is a nominal variable that indicates if a diabetes medication was prescribed"
      ],
      "metadata": {
        "id": "B1RQhIyQMIv6"
      }
    },
    {
      "cell_type": "code",
      "source": [
        "fig, ax = plt.subplots(figsize =(10, 7))\n",
        "plt.hist(data_raw['change'])\n",
        "plt.xlabel('Change in mediaction')\n",
        "plt.ylabel(\"Count\")\n",
        "plt.title('Patient change in medication histogram')\n",
        "plt.show"
      ],
      "metadata": {
        "colab": {
          "base_uri": "https://localhost:8080/",
          "height": 475
        },
        "id": "S8_R48ZvLbBk",
        "outputId": "2d5d65d3-3ea4-4baa-8b05-b2cb069207b8"
      },
      "execution_count": null,
      "outputs": [
        {
          "output_type": "execute_result",
          "data": {
            "text/plain": [
              "<function matplotlib.pyplot.show>"
            ]
          },
          "metadata": {},
          "execution_count": 67
        },
        {
          "output_type": "display_data",
          "data": {
            "text/plain": [
              "<Figure size 720x504 with 1 Axes>"
            ],
            "image/png": "[encoded data removed]"
          },
          "metadata": {
            "needs_background": "light"
          }
        }
      ]
    },
    {
      "cell_type": "code",
      "source": [
        "fig, ax = plt.subplots(figsize =(10, 7))\n",
        "plt.hist(data_raw['diabetesMed'])\n",
        "plt.xlabel('Patient has a prescription for diabetes')\n",
        "plt.ylabel(\"Count\")\n",
        "plt.title('Patient diabetes prescription histogram')\n",
        "plt.show"
      ],
      "metadata": {
        "colab": {
          "base_uri": "https://localhost:8080/",
          "height": 475
        },
        "id": "_vITNDK5Mxlt",
        "outputId": "81312009-9881-491a-8db4-c2b924b65ca8"
      },
      "execution_count": null,
      "outputs": [
        {
          "output_type": "execute_result",
          "data": {
            "text/plain": [
              "<function matplotlib.pyplot.show>"
            ]
          },
          "metadata": {},
          "execution_count": 68
        },
        {
          "output_type": "display_data",
          "data": {
            "text/plain": [
              "<Figure size 720x504 with 1 Axes>"
            ],
            "image/png": "[encoded data removed]"
          },
          "metadata": {
            "needs_background": "light"
          }
        }
      ]
    },
    {
      "cell_type": "markdown",
      "source": [
        "'readmitted' is a nominal variable with 3 values which are our labels"
      ],
      "metadata": {
        "id": "dFTEFKB-NEXh"
      }
    },
    {
      "cell_type": "code",
      "source": [
        "fig, ax = plt.subplots(figsize =(10, 7))\n",
        "plt.hist(data_raw['readmitted'])\n",
        "plt.xlabel('Patient readmission for diabetes')\n",
        "plt.ylabel(\"Count\")\n",
        "plt.title('Patient readmission histogram')\n",
        "plt.show"
      ],
      "metadata": {
        "colab": {
          "base_uri": "https://localhost:8080/",
          "height": 475
        },
        "id": "Nb57Ymj0NUjh",
        "outputId": "1ef610b7-437e-4482-f380-1900daee8218"
      },
      "execution_count": null,
      "outputs": [
        {
          "output_type": "execute_result",
          "data": {
            "text/plain": [
              "<function matplotlib.pyplot.show>"
            ]
          },
          "metadata": {},
          "execution_count": 69
        },
        {
          "output_type": "display_data",
          "data": {
            "text/plain": [
              "<Figure size 720x504 with 1 Axes>"
            ],
            "image/png": "[encoded data removed]"
          },
          "metadata": {
            "needs_background": "light"
          }
        }
      ]
    },
    {
      "cell_type": "markdown",
      "source": [
        "######Data Cleaning"
      ],
      "metadata": {
        "id": "A3N2p1cSF6vs"
      }
    },
    {
      "cell_type": "code",
      "source": [
        "from google.colab import drive\n",
        "drive.mount('/content/drive')\n",
        "import numpy as np\n",
        "import pandas as pd\n",
        "import matplotlib.pyplot as plt\n",
        "\n",
        "\n",
        "X_temp = pd.read_csv (r'/content/drive/Shared drives/cogs118A/dataset_diabetes/diabetic_data.csv')\n",
        "X_temp.head()"
      ],
      "metadata": {
        "id": "iajVuEhTE9yj",
        "colab": {
          "base_uri": "https://localhost:8080/",
          "height": 421
        },
        "outputId": "4c0044da-b02d-4903-da11-e98ee651330d"
      },
      "execution_count": null,
      "outputs": [
        {
          "output_type": "stream",
          "name": "stdout",
          "text": [
            "Drive already mounted at /content/drive; to attempt to forcibly remount, call drive.mount(\"/content/drive\", force_remount=True).\n"
          ]
        },
        {
          "output_type": "execute_result",
          "data": {
            "text/plain": [
              "   encounter_id  patient_nbr             race  gender      age weight  \\\n",
              "0       2278392      8222157        Caucasian  Female   [0-10)      ?   \n",
              "1        149190     55629189        Caucasian  Female  [10-20)      ?   \n",
              "2         64410     86047875  AfricanAmerican  Female  [20-30)      ?   \n",
              "3        500364     82442376        Caucasian    Male  [30-40)      ?   \n",
              "4         16680     42519267        Caucasian    Male  [40-50)      ?   \n",
              "\n",
              "   admission_type_id  discharge_disposition_id  admission_source_id  \\\n",
              "0                  6                        25                    1   \n",
              "1                  1                         1                    7   \n",
              "2                  1                         1                    7   \n",
              "3                  1                         1                    7   \n",
              "4                  1                         1                    7   \n",
              "\n",
              "   time_in_hospital  ... citoglipton insulin  glyburide-metformin  \\\n",
              "0                 1  ...          No      No                   No   \n",
              "1                 3  ...          No      Up                   No   \n",
              "2                 2  ...          No      No                   No   \n",
              "3                 2  ...          No      Up                   No   \n",
              "4                 1  ...          No  Steady                   No   \n",
              "\n",
              "   glipizide-metformin  glimepiride-pioglitazone  metformin-rosiglitazone  \\\n",
              "0                   No                        No                       No   \n",
              "1                   No                        No                       No   \n",
              "2                   No                        No                       No   \n",
              "3                   No                        No                       No   \n",
              "4                   No                        No                       No   \n",
              "\n",
              "   metformin-pioglitazone  change diabetesMed readmitted  \n",
              "0                      No      No          No         NO  \n",
              "1                      No      Ch         Yes        >30  \n",
              "2                      No      No         Yes         NO  \n",
              "3                      No      Ch         Yes         NO  \n",
              "4                      No      Ch         Yes         NO  \n",
              "\n",
              "[5 rows x 50 columns]"
            ],
            "text/html": [
              "\n",
              "  <div id=\"df-962e76c7-612a-428d-995c-516f6ec2c024\">\n",
              "    <div class=\"colab-df-container\">\n",
              "      <div>\n",
              "<style scoped>\n",
              "    .dataframe tbody tr th:only-of-type {\n",
              "        vertical-align: middle;\n",
              "    }\n",
              "\n",
              "    .dataframe tbody tr th {\n",
              "        vertical-align: top;\n",
              "    }\n",
              "\n",
              "    .dataframe thead th {\n",
              "        text-align: right;\n",
              "    }\n",
              "</style>\n",
              "<table border=\"1\" class=\"dataframe\">\n",
              "  <thead>\n",
              "    <tr style=\"text-align: right;\">\n",
              "      <th></th>\n",
              "      <th>encounter_id</th>\n",
              "      <th>patient_nbr</th>\n",
              "      <th>race</th>\n",
              "      <th>gender</th>\n",
              "      <th>age</th>\n",
              "      <th>weight</th>\n",
              "      <th>admission_type_id</th>\n",
              "      <th>discharge_disposition_id</th>\n",
              "      <th>admission_source_id</th>\n",
              "      <th>time_in_hospital</th>\n",
              "      <th>...</th>\n",
              "      <th>citoglipton</th>\n",
              "      <th>insulin</th>\n",
              "      <th>glyburide-metformin</th>\n",
              "      <th>glipizide-metformin</th>\n",
              "      <th>glimepiride-pioglitazone</th>\n",
              "      <th>metformin-rosiglitazone</th>\n",
              "      <th>metformin-pioglitazone</th>\n",
              "      <th>change</th>\n",
              "      <th>diabetesMed</th>\n",
              "      <th>readmitted</th>\n",
              "    </tr>\n",
              "  </thead>\n",
              "  <tbody>\n",
              "    <tr>\n",
              "      <th>0</th>\n",
              "      <td>2278392</td>\n",
              "      <td>8222157</td>\n",
              "      <td>Caucasian</td>\n",
              "      <td>Female</td>\n",
              "      <td>[0-10)</td>\n",
              "      <td>?</td>\n",
              "      <td>6</td>\n",
              "      <td>25</td>\n",
              "      <td>1</td>\n",
              "      <td>1</td>\n",
              "      <td>...</td>\n",
              "      <td>No</td>\n",
              "      <td>No</td>\n",
              "      <td>No</td>\n",
              "      <td>No</td>\n",
              "      <td>No</td>\n",
              "      <td>No</td>\n",
              "      <td>No</td>\n",
              "      <td>No</td>\n",
              "      <td>No</td>\n",
              "      <td>NO</td>\n",
              "    </tr>\n",
              "    <tr>\n",
              "      <th>1</th>\n",
              "      <td>149190</td>\n",
              "      <td>55629189</td>\n",
              "      <td>Caucasian</td>\n",
              "      <td>Female</td>\n",
              "      <td>[10-20)</td>\n",
              "      <td>?</td>\n",
              "      <td>1</td>\n",
              "      <td>1</td>\n",
              "      <td>7</td>\n",
              "      <td>3</td>\n",
              "      <td>...</td>\n",
              "      <td>No</td>\n",
              "      <td>Up</td>\n",
              "      <td>No</td>\n",
              "      <td>No</td>\n",
              "      <td>No</td>\n",
              "      <td>No</td>\n",
              "      <td>No</td>\n",
              "      <td>Ch</td>\n",
              "      <td>Yes</td>\n",
              "      <td>&gt;30</td>\n",
              "    </tr>\n",
              "    <tr>\n",
              "      <th>2</th>\n",
              "      <td>64410</td>\n",
              "      <td>86047875</td>\n",
              "      <td>AfricanAmerican</td>\n",
              "      <td>Female</td>\n",
              "      <td>[20-30)</td>\n",
              "      <td>?</td>\n",
              "      <td>1</td>\n",
              "      <td>1</td>\n",
              "      <td>7</td>\n",
              "      <td>2</td>\n",
              "      <td>...</td>\n",
              "      <td>No</td>\n",
              "      <td>No</td>\n",
              "      <td>No</td>\n",
              "      <td>No</td>\n",
              "      <td>No</td>\n",
              "      <td>No</td>\n",
              "      <td>No</td>\n",
              "      <td>No</td>\n",
              "      <td>Yes</td>\n",
              "      <td>NO</td>\n",
              "    </tr>\n",
              "    <tr>\n",
              "      <th>3</th>\n",
              "      <td>500364</td>\n",
              "      <td>82442376</td>\n",
              "      <td>Caucasian</td>\n",
              "      <td>Male</td>\n",
              "      <td>[30-40)</td>\n",
              "      <td>?</td>\n",
              "      <td>1</td>\n",
              "      <td>1</td>\n",
              "      <td>7</td>\n",
              "      <td>2</td>\n",
              "      <td>...</td>\n",
              "      <td>No</td>\n",
              "      <td>Up</td>\n",
              "      <td>No</td>\n",
              "      <td>No</td>\n",
              "      <td>No</td>\n",
              "      <td>No</td>\n",
              "      <td>No</td>\n",
              "      <td>Ch</td>\n",
              "      <td>Yes</td>\n",
              "      <td>NO</td>\n",
              "    </tr>\n",
              "    <tr>\n",
              "      <th>4</th>\n",
              "      <td>16680</td>\n",
              "      <td>42519267</td>\n",
              "      <td>Caucasian</td>\n",
              "      <td>Male</td>\n",
              "      <td>[40-50)</td>\n",
              "      <td>?</td>\n",
              "      <td>1</td>\n",
              "      <td>1</td>\n",
              "      <td>7</td>\n",
              "      <td>1</td>\n",
              "      <td>...</td>\n",
              "      <td>No</td>\n",
              "      <td>Steady</td>\n",
              "      <td>No</td>\n",
              "      <td>No</td>\n",
              "      <td>No</td>\n",
              "      <td>No</td>\n",
              "      <td>No</td>\n",
              "      <td>Ch</td>\n",
              "      <td>Yes</td>\n",
              "      <td>NO</td>\n",
              "    </tr>\n",
              "  </tbody>\n",
              "</table>\n",
              "<p>5 rows × 50 columns</p>\n",
              "</div>\n",
              "      <button class=\"colab-df-convert\" onclick=\"convertToInteractive('df-962e76c7-612a-428d-995c-516f6ec2c024')\"\n",
              "              title=\"Convert this dataframe to an interactive table.\"\n",
              "              style=\"display:none;\">\n",
              "        \n",
              "  <svg xmlns=\"http://www.w3.org/2000/svg\" height=\"24px\"viewBox=\"0 0 24 24\"\n",
              "       width=\"24px\">\n",
              "    <path d=\"M0 0h24v24H0V0z\" fill=\"none\"/>\n",
              "    <path d=\"M18.56 5.44l.94 2.06.94-2.06 2.06-.94-2.06-.94-.94-2.06-.94 2.06-2.06.94zm-11 1L8.5 8.5l.94-2.06 2.06-.94-2.06-.94L8.5 2.5l-.94 2.06-2.06.94zm10 10l.94 2.06.94-2.06 2.06-.94-2.06-.94-.94-2.06-.94 2.06-2.06.94z\"/><path d=\"M17.41 7.96l-1.37-1.37c-.4-.4-.92-.59-1.43-.59-.52 0-1.04.2-1.43.59L10.3 9.45l-7.72 7.72c-.78.78-.78 2.05 0 2.83L4 21.41c.39.39.9.59 1.41.59.51 0 1.02-.2 1.41-.59l7.78-7.78 2.81-2.81c.8-.78.8-2.07 0-2.86zM5.41 20L4 18.59l7.72-7.72 1.47 1.35L5.41 20z\"/>\n",
              "  </svg>\n",
              "      </button>\n",
              "      \n",
              "  <style>\n",
              "    .colab-df-container {\n",
              "      display:flex;\n",
              "      flex-wrap:wrap;\n",
              "      gap: 12px;\n",
              "    }\n",
              "\n",
              "    .colab-df-convert {\n",
              "      background-color: #E8F0FE;\n",
              "      border: none;\n",
              "      border-radius: 50%;\n",
              "      cursor: pointer;\n",
              "      display: none;\n",
              "      fill: #1967D2;\n",
              "      height: 32px;\n",
              "      padding: 0 0 0 0;\n",
              "      width: 32px;\n",
              "    }\n",
              "\n",
              "    .colab-df-convert:hover {\n",
              "      background-color: #E2EBFA;\n",
              "      box-shadow: 0px 1px 2px rgba(60, 64, 67, 0.3), 0px 1px 3px 1px rgba(60, 64, 67, 0.15);\n",
              "      fill: #174EA6;\n",
              "    }\n",
              "\n",
              "    [theme=dark] .colab-df-convert {\n",
              "      background-color: #3B4455;\n",
              "      fill: #D2E3FC;\n",
              "    }\n",
              "\n",
              "    [theme=dark] .colab-df-convert:hover {\n",
              "      background-color: #434B5C;\n",
              "      box-shadow: 0px 1px 3px 1px rgba(0, 0, 0, 0.15);\n",
              "      filter: drop-shadow(0px 1px 2px rgba(0, 0, 0, 0.3));\n",
              "      fill: #FFFFFF;\n",
              "    }\n",
              "  </style>\n",
              "\n",
              "      <script>\n",
              "        const buttonEl =\n",
              "          document.querySelector('#df-962e76c7-612a-428d-995c-516f6ec2c024 button.colab-df-convert');\n",
              "        buttonEl.style.display =\n",
              "          google.colab.kernel.accessAllowed ? 'block' : 'none';\n",
              "\n",
              "        async function convertToInteractive(key) {\n",
              "          const element = document.querySelector('#df-962e76c7-612a-428d-995c-516f6ec2c024');\n",
              "          const dataTable =\n",
              "            await google.colab.kernel.invokeFunction('convertToInteractive',\n",
              "                                                     [key], {});\n",
              "          if (!dataTable) return;\n",
              "\n",
              "          const docLinkHtml = 'Like what you see? Visit the ' +\n",
              "            '<a target=\"_blank\" href=https://colab.research.google.com/notebooks/data_table.ipynb>data table notebook</a>'\n",
              "            + ' to learn more about interactive tables.';\n",
              "          element.innerHTML = '';\n",
              "          dataTable['output_type'] = 'display_data';\n",
              "          await google.colab.output.renderOutput(dataTable, element);\n",
              "          const docLink = document.createElement('div');\n",
              "          docLink.innerHTML = docLinkHtml;\n",
              "          element.appendChild(docLink);\n",
              "        }\n",
              "      </script>\n",
              "    </div>\n",
              "  </div>\n",
              "  "
            ]
          },
          "metadata": {},
          "execution_count": 70
        }
      ]
    },
    {
      "cell_type": "code",
      "source": [
        "#If the file is in the same folder as the notebook please uncomment and run\n",
        "\n",
        "#X_temp = pd.read_csv (r './diabetic_data.csv')"
      ],
      "metadata": {
        "id": "uMMJVWPJzrsM"
      },
      "execution_count": null,
      "outputs": []
    },
    {
      "cell_type": "code",
      "source": [
        "#We remove features 'encounter_id', 'patient_nbr', 'weight' since they provide no useful quantitative information about patient\n",
        "X_temp.drop(['encounter_id', 'patient_nbr', 'weight'], axis=1, inplace = True)"
      ],
      "metadata": {
        "id": "r8QIJ04K6QV4"
      },
      "execution_count": null,
      "outputs": []
    },
    {
      "cell_type": "code",
      "source": [
        "#We find the patients that have race as '?'. Should we also remove patients that have 'other' for race. Create a one hot encoding?\n",
        "l = len(X_temp['race'])\n",
        "question_race = []\n",
        "for i in range(l):\n",
        "  if(X_temp['race'][i] == '?'):\n",
        "    question_race.append(i)\n",
        "#Remove the patients that have '?' as race\n",
        "X_temp.drop(labels=question_race, axis=0, inplace=True)"
      ],
      "metadata": {
        "id": "m84IexWC6UXo"
      },
      "execution_count": null,
      "outputs": []
    },
    {
      "cell_type": "code",
      "source": [
        "#Reset the indeces of the data frame\n",
        "X_temp.reset_index(drop=True, inplace=True)"
      ],
      "metadata": {
        "id": "mFk2wzyr6k-h"
      },
      "execution_count": null,
      "outputs": []
    },
    {
      "cell_type": "code",
      "source": [
        "#We find the patients that have gender as 'Unknown/Invalid' and removed them\n",
        "l1 = len(X_temp['gender'])\n",
        "question_gender = []\n",
        "for i in range(l1):\n",
        "  if(X_temp['gender'][i] == 'Unknown/Invalid'):\n",
        "    question_gender.append(i)\n",
        "\n",
        "#Remove the patients that have 'Unknown/Invalid' as race\n",
        "X_temp.drop(labels=question_gender, axis=0, inplace=True)\n",
        "#Reset the indeces of the data frame\n",
        "X_temp.reset_index(drop=True, inplace=True)"
      ],
      "metadata": {
        "id": "YYFdHyHK6oox"
      },
      "execution_count": null,
      "outputs": []
    },
    {
      "cell_type": "code",
      "source": [
        "#Convert the intervals from age and give a single integer value\n",
        "def afun2(St):\n",
        "    istr = str(St)\n",
        "    if (len(istr) >= 1):\n",
        "        return float(istr.split(\"-\")[0].split('[')[1])\n",
        "    else:\n",
        "        return float(istr)\n",
        "X_temp['age'] = X_temp['age'].apply(afun2)"
      ],
      "metadata": {
        "id": "PgiQnCrM65x-"
      },
      "execution_count": null,
      "outputs": []
    },
    {
      "cell_type": "code",
      "source": [
        "#Delete columns of data frame that won't be used\n",
        "X_temp.drop(['admission_type_id','discharge_disposition_id', 'admission_source_id','payer_code','medical_specialty',\n",
        "'diag_1', 'diag_2', 'diag_3'], axis=1, inplace = True)"
      ],
      "metadata": {
        "id": "n2tGFMBr7Kyh"
      },
      "execution_count": null,
      "outputs": []
    },
    {
      "cell_type": "code",
      "source": [
        "#Prepare data for one hot encoding for race atributte(Will update this in future to make it more efficient)\n",
        "X_temp.insert(1, 'race_1', X_temp['race'])\n",
        "X_temp.insert(2, 'race_2', X_temp['race'])\n",
        "X_temp.insert(3, 'race_3', X_temp['race'])\n",
        "X_temp.insert(4, 'race_4', X_temp['race'])\n",
        "X_temp.insert(5, 'race_5', X_temp['race'])\n",
        "#Remove the race column now that we have the columns for one hot encoding \n",
        "X_temp.drop('race', axis=1, inplace=True)\n",
        "X_temp.reset_index(drop=True, inplace=True)\n",
        "\n",
        "#Manually perform one hot encoding\n",
        "def rfun1(Si):\n",
        "    if (str(Si) == 'AfricanAmerican'):\n",
        "        return 1.0\n",
        "    else:\n",
        "        return 0.0\n",
        "def rfun2(Si):\n",
        "    if (str(Si) == 'Asian'):\n",
        "        return 1.0\n",
        "    else:\n",
        "        return 0.0\n",
        "def rfun3(Si):\n",
        "    if (str(Si) == 'Caucasian'):\n",
        "        return 1.0\n",
        "    else:\n",
        "        return 0.0\n",
        "def rfun4(Si):\n",
        "    if (str(Si) == 'Hispanic'):\n",
        "        return 1.0\n",
        "    else:\n",
        "        return 0.0\n",
        "def rfun5(Si):\n",
        "    if (str(Si) == 'Other'):\n",
        "        return 1.0\n",
        "    else:\n",
        "        return 0.0\n",
        "X_temp[\"race_1\"] = X_temp[\"race_1\"].apply(rfun1)\n",
        "X_temp[\"race_2\"] = X_temp[\"race_2\"].apply(rfun2)\n",
        "X_temp[\"race_3\"] = X_temp[\"race_3\"].apply(rfun3)\n",
        "X_temp[\"race_4\"] = X_temp[\"race_4\"].apply(rfun4)\n",
        "X_temp[\"race_5\"] = X_temp[\"race_5\"].apply(rfun5)"
      ],
      "metadata": {
        "id": "tVTXpUfG7ik0"
      },
      "execution_count": null,
      "outputs": []
    },
    {
      "cell_type": "code",
      "source": [
        "#Prepare data for one hot encoding for gender atributte(Will update this in future to make it more efficient)\n",
        "X_temp.insert(6, 'gender_1', X_temp['gender'])\n",
        "X_temp.insert(7, 'gender_2', X_temp['gender'])\n",
        "#Remove the gender column now that we have the columns for one hot encoding\n",
        "X_temp.drop('gender', axis=1, inplace=True)\n",
        "X_temp.reset_index(drop=True, inplace=True)\n",
        "\n",
        "#Manually perform one hot encoding\n",
        "def gfun1(Si):\n",
        "    if (str(Si) == 'Female'):\n",
        "        return 1.0\n",
        "    else:\n",
        "        return 0.0\n",
        "def gfun2(Si):\n",
        "    if (str(Si) == 'Male'):\n",
        "        return 1.0\n",
        "    else:\n",
        "        return 0.0\n",
        "\n",
        "X_temp[\"gender_1\"] = X_temp[\"gender_1\"].apply(gfun1)\n",
        "X_temp[\"gender_2\"] = X_temp[\"gender_2\"].apply(gfun2)"
      ],
      "metadata": {
        "id": "ee04xoQk8ahK"
      },
      "execution_count": null,
      "outputs": []
    },
    {
      "cell_type": "code",
      "source": [
        "X_full = X_temp.copy(deep=True)"
      ],
      "metadata": {
        "id": "9arWQfwZgZDd"
      },
      "execution_count": null,
      "outputs": []
    },
    {
      "cell_type": "code",
      "source": [
        "X_full.columns"
      ],
      "metadata": {
        "colab": {
          "base_uri": "https://localhost:8080/"
        },
        "id": "8H5iKCG4gnwL",
        "outputId": "34b75579-79f6-4763-c005-b72501b65eaf"
      },
      "execution_count": null,
      "outputs": [
        {
          "output_type": "execute_result",
          "data": {
            "text/plain": [
              "Index(['race_1', 'race_2', 'race_3', 'race_4', 'race_5', 'gender_1',\n",
              "       'gender_2', 'age', 'time_in_hospital', 'num_lab_procedures',\n",
              "       'num_procedures', 'num_medications', 'number_outpatient',\n",
              "       'number_emergency', 'number_inpatient', 'number_diagnoses',\n",
              "       'max_glu_serum', 'A1Cresult', 'metformin', 'repaglinide', 'nateglinide',\n",
              "       'chlorpropamide', 'glimepiride', 'acetohexamide', 'glipizide',\n",
              "       'glyburide', 'tolbutamide', 'pioglitazone', 'rosiglitazone', 'acarbose',\n",
              "       'miglitol', 'troglitazone', 'tolazamide', 'examide', 'citoglipton',\n",
              "       'insulin', 'glyburide-metformin', 'glipizide-metformin',\n",
              "       'glimepiride-pioglitazone', 'metformin-rosiglitazone',\n",
              "       'metformin-pioglitazone', 'change', 'diabetesMed', 'readmitted'],\n",
              "      dtype='object')"
            ]
          },
          "metadata": {},
          "execution_count": 80
        }
      ]
    },
    {
      "cell_type": "code",
      "source": [
        "X_full.drop(['max_glu_serum', 'A1Cresult','metformin',\n",
        "       'repaglinide', 'nateglinide', 'chlorpropamide', 'glimepiride',\n",
        "       'acetohexamide', 'glipizide', 'glyburide', 'tolbutamide',\n",
        "       'pioglitazone', 'rosiglitazone', 'acarbose', 'miglitol', 'troglitazone',\n",
        "       'tolazamide', 'examide', 'citoglipton', 'insulin',\n",
        "       'glyburide-metformin', 'glipizide-metformin',\n",
        "       'glimepiride-pioglitazone', 'metformin-rosiglitazone',\n",
        "       'metformin-pioglitazone', 'change', 'diabetesMed','readmitted'], axis=1, inplace = True)"
      ],
      "metadata": {
        "id": "PDBHWqhl8dyp"
      },
      "execution_count": null,
      "outputs": []
    },
    {
      "cell_type": "code",
      "source": [
        "X_full.columns"
      ],
      "metadata": {
        "colab": {
          "base_uri": "https://localhost:8080/"
        },
        "id": "mmWrBRe0g30b",
        "outputId": "610092e5-5c57-4bc3-aeba-a96b385ac6bc"
      },
      "execution_count": null,
      "outputs": [
        {
          "output_type": "execute_result",
          "data": {
            "text/plain": [
              "Index(['race_1', 'race_2', 'race_3', 'race_4', 'race_5', 'gender_1',\n",
              "       'gender_2', 'age', 'time_in_hospital', 'num_lab_procedures',\n",
              "       'num_procedures', 'num_medications', 'number_outpatient',\n",
              "       'number_emergency', 'number_inpatient', 'number_diagnoses'],\n",
              "      dtype='object')"
            ]
          },
          "metadata": {},
          "execution_count": 82
        }
      ]
    },
    {
      "cell_type": "code",
      "source": [
        "#Perform one hot encoding for each of the nominal variables described above\n",
        "mglshe = pd.get_dummies(X_temp.max_glu_serum)\n",
        "A1he = pd.get_dummies(X_temp.A1Cresult)\n",
        "mehe = pd.get_dummies(X_temp.metformin)\n",
        "rehe = pd.get_dummies(X_temp.repaglinide)\n",
        "nahe = pd.get_dummies(X_temp.nateglinide)\n",
        "chhe = pd.get_dummies(X_temp.chlorpropamide)\n",
        "glhe = pd.get_dummies(X_temp.glimepiride)\n",
        "ache = pd.get_dummies(X_temp.acetohexamide)\n",
        "glihe = pd.get_dummies(X_temp.glipizide)\n",
        "glyhe = pd.get_dummies(X_temp.glyburide)\n",
        "tohe = pd.get_dummies(X_temp.tolbutamide)\n",
        "pihe = pd.get_dummies(X_temp.pioglitazone)\n",
        "rohe = pd.get_dummies(X_temp.rosiglitazone)\n",
        "acahe = pd.get_dummies(X_temp.acarbose)\n",
        "mihe = pd.get_dummies(X_temp.miglitol)\n",
        "trhe = pd.get_dummies(X_temp.troglitazone)\n",
        "tolhe = pd.get_dummies(X_temp.tolazamide)\n",
        "exhe = pd.get_dummies(X_temp.examide)\n",
        "cihe = pd.get_dummies(X_temp.citoglipton)\n",
        "inhe = pd.get_dummies(X_temp.insulin)\n",
        "glymhe = pd.get_dummies(X_temp['glyburide-metformin'])\n",
        "glimhe = pd.get_dummies(X_temp['glipizide-metformin'])\n",
        "pliphe = pd.get_dummies(X_temp['glimepiride-pioglitazone'])\n",
        "mrhe = pd.get_dummies(X_temp['metformin-rosiglitazone'])\n",
        "mephe = pd.get_dummies(X_temp['metformin-pioglitazone'])\n",
        "chahe = pd.get_dummies(X_temp['change'])\n",
        "diamhe = pd.get_dummies(X_temp['diabetesMed'])"
      ],
      "metadata": {
        "id": "ZsnDa67MhRKO"
      },
      "execution_count": null,
      "outputs": []
    },
    {
      "cell_type": "code",
      "source": [
        "X_full_v1 = X_full.copy(deep=True)\n",
        "X_full_v1 = pd.concat([X_full_v1, X_temp['readmitted']], axis=1)\n",
        "#Functions that convert 'No', '<30', '>30' to numberical values for the labels\n",
        "def reafun1(Si):\n",
        "    if (str(Si) == 'NO'):\n",
        "        return 0.0\n",
        "    else:\n",
        "        return 1.0\n",
        "\n",
        "def reafun2(Si):\n",
        "    if (str(Si) == 'NO'):\n",
        "        return 0.0\n",
        "    elif (str(Si) == '<30'):\n",
        "        return 1.0\n",
        "    else:\n",
        "        return 2.0\n",
        "\n",
        "\n",
        "X_full_v1[\"readmitted\"] = X_full_v1[\"readmitted\"].apply(reafun2)\n",
        "X_full_v1.to_csv('/content/drive/Shared drives/cogs118A/dataset_diabetes/X_multy_v1.csv')"
      ],
      "metadata": {
        "id": "JcEH7nJMnR8D"
      },
      "execution_count": null,
      "outputs": []
    },
    {
      "cell_type": "code",
      "source": [
        "X_full_v2 = X_full.copy(deep=True)\n",
        "X_full_v2 = pd.concat([X_full_v2, mglshe,A1he], axis=1)\n",
        "X_full_v2 = pd.concat([X_full_v2, X_temp['readmitted']], axis=1)\n",
        "X_full_v2[\"readmitted\"] = X_full_v2[\"readmitted\"].apply(reafun2)\n",
        "X_full_v2.to_csv('/content/drive/Shared drives/cogs118A/dataset_diabetes/X_multy_v2.csv')"
      ],
      "metadata": {
        "id": "diLQ1C0Jn9Ra"
      },
      "execution_count": null,
      "outputs": []
    },
    {
      "cell_type": "code",
      "source": [
        "X_full_v3 = X_full.copy(deep=True)\n",
        "X_full_v3 = pd.concat([X_full_v3, mglshe,A1he, mehe,rehe,nahe,chhe,glhe,ache,\n",
        "                       glihe,glyhe,tohe,pihe,rohe,acahe,mihe,trhe,tolhe,exhe,\n",
        "                       cihe,inhe,glymhe,glimhe,pliphe,mrhe,mephe,chahe,diamhe], axis=1)\n",
        "X_full_v3 = pd.concat([X_full_v3, X_temp['readmitted']], axis=1)\n",
        "X_full_v3[\"readmitted\"] = X_full_v3[\"readmitted\"].apply(reafun2)\n",
        "X_full_v3.to_csv('/content/drive/Shared drives/cogs118A/dataset_diabetes/X_multy_v3.csv')"
      ],
      "metadata": {
        "id": "kEriP4tpqI1Y"
      },
      "execution_count": null,
      "outputs": []
    },
    {
      "cell_type": "markdown",
      "metadata": {
        "id": "j7gl7bGEByIf"
      },
      "source": [
        "# Proposed Solution\n",
        "\n",
        "\n",
        "We plan to try out 4 different machine learning algorithms to the problem. Since this is a multi-class(3 classes) classification problem, all of our models should be multi-class classifiers, and we will use type I and type II errors of each class type to test how good our models behave. Here are the 4 models we will use: parametric models(Softmax Regression, Multi-class SVM) and non-parametric models(KNN, Decision Tree or Random Forest). \n",
        "\n",
        "- Softmax Regression  \n",
        "Softmax regression is a generalization of logistic regression to support multi-class classification problems. It utilizes softmax function to compute the probability of the sample belonging to each class. For implementation, we can use sklearn.linear_model.LogisticRegression(multi_class=‘multinomial’).\n",
        "- Multi-class SVM  \n",
        "SVM is a model that tries to find a hyperplane(decision boundary) that maximizes the distance between the data points and the class boundary. Since SVM does not support multi-class classification naturally, we can break down our problem to multipale binary classification problems. Since we have 3 classes, we will train 3 SVMs and each SVM predicts the membership of that sample in one of the classes. Regarding implementation details, we can use sklearn.svm.SVC(), where we will try to use different kernels: ‘linear’, ‘poly’, ‘rbf’ and use cross validation(GridSearchCV) to select the best kernel.\n",
        "- KNN  \n",
        "K-nearest neighbors classifer first calulates the first k closest neighbors of the data point and predict the label that has the most occurence in the first k nearest neighbors' labels. We will use sklearn.neighbors.KNeighborsClassifier() to implement this and use cross validation(KFold) to select our hyperparameter k.\n",
        "- Decision Tree or Random Forest  \n",
        "Decision tree is a way to orgnize our data in an hierarchical way and we can have any decision boundary(linear or non-linear) using decision trees. When building the tree, we select the splits that have the most information gain. We will use sklearn.tree.DecisionTreeClassifier() to implement this algorithm. Still, we are going to experiment with the criterion('gini' or 'entropy') also the max_depth of the tree to prevent overfitting.\n",
        "\n",
        "We will use the current state-of-the-art model, Deep Neural Network, specifically Multilayer Perceptrons, as our benchmark model.\n"
      ]
    },
    {
      "cell_type": "markdown",
      "metadata": {
        "id": "0hzG5IubByIj"
      },
      "source": [
        "# Evaluation Metrics\n",
        "For resource allocation the main 2 cases of concern are having many staff and not enough customers or having too many customers and not enough staff. In a medical setting not having enough doctors and nurses is the worst of the previous 2 cases. Hence the algorithm minimizing the ratio of false negatives will be considered better. Note a false negative is incorrectly predicting the patient will not need readmission (Type 2 error).\n",
        "If $y$ is the number of patients incorrectly labeled as not needed readmission and $x$ is the number of patients correctly label as needing readmission, then $\\text{rate of false negatives} = \\frac{y}{x+y}$. \n",
        "\n",
        "From a purely finantial point of view being overstaffed is bad for business. Thus, we'll also look at the rate the algorithms incorrectly label a patient as needing readmission within 30 days (Type 1 error).\n",
        "We will also look at accuracy by computing the ratio between the number of incorrect predictions divided by the number of data points we are trying to classify and see if for these 3 different metrics there's a difference in the algorithm that could be considered better."
      ]
    },
    {
      "cell_type": "markdown",
      "metadata": {
        "id": "hcY4YxKLByIm"
      },
      "source": [
        "# Preliminary Results"
      ]
    },
    {
      "cell_type": "markdown",
      "source": [
        "For our initial experiments, we are using the variables 'race','gender', 'age', 'time_in_hospital', 'num_lab_procedures','num_procedures', 'num_medications' ,'number_outpatient','number_emergency', 'number_inpatient', 'number_diagnoses'\n",
        "\n",
        "We use race becasue it in theoy certain groups are more likely to develop diabetes. Hoever, we may reconsider this as most of the subjects belong to a particular group in a proportion higher than expected. Age has a good distribution centered around middle age individuals and we think it's representative of the true diabetes population. The other variables were picked for a similar reason and we wanted to see what kinf of results we could get from numerical values only. Since we were using number of medications, we did not encode each of the drugs. Similarly we looked at the number of diagnosis instead of the type of diagnosis. 'max_glu_serum', 'A1Cresult' were not originally included because many patients did not take those tests.\n",
        "Version 2 of our dataset had included them, but we did not see any improvement in accuracy. Version 3 has each of the drugs encoded for a total of 98 columns. As you will see below our accuracy is better than random guess, but we will look at the distribution of each of the drugs to decide which ones to include, we'll remove race and see if the diagnosis type will increase accuracy."
      ],
      "metadata": {
        "id": "Rzp1Q_VvPULC"
      }
    },
    {
      "cell_type": "markdown",
      "source": [
        "For our preliminary analysis, we tried to run three of the models in our proposal on the features that we have selected. "
      ],
      "metadata": {
        "id": "AxRu5OJ8WdQY"
      }
    },
    {
      "cell_type": "markdown",
      "source": [
        "- **Softmax Regression**"
      ],
      "metadata": {
        "id": "tTM2Tk2yFHXL"
      }
    },
    {
      "cell_type": "markdown",
      "source": [
        "The accuracy that we got by running the softmax regression on testing data is around 0.56."
      ],
      "metadata": {
        "id": "dl7ErRlQaZYg"
      }
    },
    {
      "cell_type": "code",
      "source": [
        "# import data\n",
        "data = pd.read_csv (r'/content/drive/Shared drives/cogs118A/dataset_diabetes/X_multy.csv')\n",
        "data.drop(columns = 'Unnamed: 0', inplace = True)\n"
      ],
      "metadata": {
        "id": "PQQC1ZuAF18h"
      },
      "execution_count": null,
      "outputs": []
    },
    {
      "cell_type": "code",
      "source": [
        "# import pakacages\n",
        "from sklearn.linear_model import LogisticRegression\n",
        "from sklearn.model_selection import GridSearchCV, train_test_split\n",
        "from sklearn.svm import SVC\n",
        "from sklearn.preprocessing import StandardScaler\n",
        "from sklearn.pipeline import Pipeline\n",
        "from sklearn.linear_model import LogisticRegression"
      ],
      "metadata": {
        "id": "0vPAgBOsI8MU"
      },
      "execution_count": null,
      "outputs": []
    },
    {
      "cell_type": "code",
      "source": [
        "# split train and test data\n",
        "X = data.iloc[:, : -1]\n",
        "y = data.iloc[:, -1]\n",
        "X_train, X_test, y_train, y_test = train_test_split(X, y, test_size=0.33, random_state=42)"
      ],
      "metadata": {
        "id": "OlD2biEFJVLn"
      },
      "execution_count": null,
      "outputs": []
    },
    {
      "cell_type": "code",
      "source": [
        "# test it with logistic regression\n",
        "# the accuracy we got is around 0.56\n",
        "scaler = StandardScaler()\n",
        "softReg = LogisticRegression(multi_class = 'multinomial', solver = 'lbfgs')\n",
        "pipe = Pipeline([(\"scaler\", scaler), (\"logistic\", softReg)])\n",
        "pipe.fit(X_train, y_train)\n",
        "pipe.score(X_test, y_test)"
      ],
      "metadata": {
        "colab": {
          "base_uri": "https://localhost:8080/"
        },
        "id": "wZVvDk5tJr1q",
        "outputId": "ebf57152-c58f-4254-f7a9-393f9b27b902"
      },
      "execution_count": null,
      "outputs": [
        {
          "output_type": "execute_result",
          "data": {
            "text/plain": [
              "0.5651326409405172"
            ]
          },
          "metadata": {},
          "execution_count": 27
        }
      ]
    },
    {
      "cell_type": "code",
      "source": [
        "# run the logistic regresion through the Grisearch algorithm to test cifferent hyperparameters C\n",
        "# we can see that C = 0.5 and C = 1 return very similar performances\n",
        "scaler = StandardScaler()\n",
        "softReg = LogisticRegression(multi_class = 'multinomial', solver = 'lbfgs')\n",
        "pipe = Pipeline([(\"scaler\", scaler), (\"logistic\", softReg)])\n",
        "param_grid = {'logistic__penalty':['l2'],'logistic__C':[0.5, 1, 10]}\n",
        "gscv = GridSearchCV(pipe,param_grid)\n",
        "gscv.fit(X_train, y_train)\n",
        "cv_results = pd.DataFrame.from_dict(gscv.cv_results_)\n",
        "cv_results\n"
      ],
      "metadata": {
        "colab": {
          "base_uri": "https://localhost:8080/",
          "height": 312
        },
        "id": "rui1i28-LH58",
        "outputId": "0d1c724e-58af-4bdc-a617-98e4e4e8c850"
      },
      "execution_count": null,
      "outputs": [
        {
          "output_type": "execute_result",
          "data": {
            "text/plain": [
              "   mean_fit_time  std_fit_time  mean_score_time  std_score_time  \\\n",
              "0       1.305182      0.198900         0.018738        0.005711   \n",
              "1       0.795925      0.209970         0.009943        0.002884   \n",
              "2       0.610433      0.016408         0.008651        0.000633   \n",
              "\n",
              "  param_logistic__C param_logistic__penalty  \\\n",
              "0               0.5                      l2   \n",
              "1                 1                      l2   \n",
              "2                10                      l2   \n",
              "\n",
              "                                            params  split0_test_score  \\\n",
              "0  {'logistic__C': 0.5, 'logistic__penalty': 'l2'}           0.560681   \n",
              "1    {'logistic__C': 1, 'logistic__penalty': 'l2'}           0.560681   \n",
              "2   {'logistic__C': 10, 'logistic__penalty': 'l2'}           0.560681   \n",
              "\n",
              "   split1_test_score  split2_test_score  split3_test_score  split4_test_score  \\\n",
              "0           0.565107           0.566532           0.566907           0.564024   \n",
              "1           0.565107           0.566532           0.566907           0.564024   \n",
              "2           0.565107           0.566532           0.566907           0.564024   \n",
              "\n",
              "   mean_test_score  std_test_score  rank_test_score  \n",
              "0          0.56465        0.002235                1  \n",
              "1          0.56465        0.002235                1  \n",
              "2          0.56465        0.002235                1  "
            ],
            "text/html": [
              "\n",
              "  <div id=\"df-9c48a960-1388-443f-a0dd-2ca58cb5c16a\">\n",
              "    <div class=\"colab-df-container\">\n",
              "      <div>\n",
              "<style scoped>\n",
              "    .dataframe tbody tr th:only-of-type {\n",
              "        vertical-align: middle;\n",
              "    }\n",
              "\n",
              "    .dataframe tbody tr th {\n",
              "        vertical-align: top;\n",
              "    }\n",
              "\n",
              "    .dataframe thead th {\n",
              "        text-align: right;\n",
              "    }\n",
              "</style>\n",
              "<table border=\"1\" class=\"dataframe\">\n",
              "  <thead>\n",
              "    <tr style=\"text-align: right;\">\n",
              "      <th></th>\n",
              "      <th>mean_fit_time</th>\n",
              "      <th>std_fit_time</th>\n",
              "      <th>mean_score_time</th>\n",
              "      <th>std_score_time</th>\n",
              "      <th>param_logistic__C</th>\n",
              "      <th>param_logistic__penalty</th>\n",
              "      <th>params</th>\n",
              "      <th>split0_test_score</th>\n",
              "      <th>split1_test_score</th>\n",
              "      <th>split2_test_score</th>\n",
              "      <th>split3_test_score</th>\n",
              "      <th>split4_test_score</th>\n",
              "      <th>mean_test_score</th>\n",
              "      <th>std_test_score</th>\n",
              "      <th>rank_test_score</th>\n",
              "    </tr>\n",
              "  </thead>\n",
              "  <tbody>\n",
              "    <tr>\n",
              "      <th>0</th>\n",
              "      <td>1.305182</td>\n",
              "      <td>0.198900</td>\n",
              "      <td>0.018738</td>\n",
              "      <td>0.005711</td>\n",
              "      <td>0.5</td>\n",
              "      <td>l2</td>\n",
              "      <td>{'logistic__C': 0.5, 'logistic__penalty': 'l2'}</td>\n",
              "      <td>0.560681</td>\n",
              "      <td>0.565107</td>\n",
              "      <td>0.566532</td>\n",
              "      <td>0.566907</td>\n",
              "      <td>0.564024</td>\n",
              "      <td>0.56465</td>\n",
              "      <td>0.002235</td>\n",
              "      <td>1</td>\n",
              "    </tr>\n",
              "    <tr>\n",
              "      <th>1</th>\n",
              "      <td>0.795925</td>\n",
              "      <td>0.209970</td>\n",
              "      <td>0.009943</td>\n",
              "      <td>0.002884</td>\n",
              "      <td>1</td>\n",
              "      <td>l2</td>\n",
              "      <td>{'logistic__C': 1, 'logistic__penalty': 'l2'}</td>\n",
              "      <td>0.560681</td>\n",
              "      <td>0.565107</td>\n",
              "      <td>0.566532</td>\n",
              "      <td>0.566907</td>\n",
              "      <td>0.564024</td>\n",
              "      <td>0.56465</td>\n",
              "      <td>0.002235</td>\n",
              "      <td>1</td>\n",
              "    </tr>\n",
              "    <tr>\n",
              "      <th>2</th>\n",
              "      <td>0.610433</td>\n",
              "      <td>0.016408</td>\n",
              "      <td>0.008651</td>\n",
              "      <td>0.000633</td>\n",
              "      <td>10</td>\n",
              "      <td>l2</td>\n",
              "      <td>{'logistic__C': 10, 'logistic__penalty': 'l2'}</td>\n",
              "      <td>0.560681</td>\n",
              "      <td>0.565107</td>\n",
              "      <td>0.566532</td>\n",
              "      <td>0.566907</td>\n",
              "      <td>0.564024</td>\n",
              "      <td>0.56465</td>\n",
              "      <td>0.002235</td>\n",
              "      <td>1</td>\n",
              "    </tr>\n",
              "  </tbody>\n",
              "</table>\n",
              "</div>\n",
              "      <button class=\"colab-df-convert\" onclick=\"convertToInteractive('df-9c48a960-1388-443f-a0dd-2ca58cb5c16a')\"\n",
              "              title=\"Convert this dataframe to an interactive table.\"\n",
              "              style=\"display:none;\">\n",
              "        \n",
              "  <svg xmlns=\"http://www.w3.org/2000/svg\" height=\"24px\"viewBox=\"0 0 24 24\"\n",
              "       width=\"24px\">\n",
              "    <path d=\"M0 0h24v24H0V0z\" fill=\"none\"/>\n",
              "    <path d=\"M18.56 5.44l.94 2.06.94-2.06 2.06-.94-2.06-.94-.94-2.06-.94 2.06-2.06.94zm-11 1L8.5 8.5l.94-2.06 2.06-.94-2.06-.94L8.5 2.5l-.94 2.06-2.06.94zm10 10l.94 2.06.94-2.06 2.06-.94-2.06-.94-.94-2.06-.94 2.06-2.06.94z\"/><path d=\"M17.41 7.96l-1.37-1.37c-.4-.4-.92-.59-1.43-.59-.52 0-1.04.2-1.43.59L10.3 9.45l-7.72 7.72c-.78.78-.78 2.05 0 2.83L4 21.41c.39.39.9.59 1.41.59.51 0 1.02-.2 1.41-.59l7.78-7.78 2.81-2.81c.8-.78.8-2.07 0-2.86zM5.41 20L4 18.59l7.72-7.72 1.47 1.35L5.41 20z\"/>\n",
              "  </svg>\n",
              "      </button>\n",
              "      \n",
              "  <style>\n",
              "    .colab-df-container {\n",
              "      display:flex;\n",
              "      flex-wrap:wrap;\n",
              "      gap: 12px;\n",
              "    }\n",
              "\n",
              "    .colab-df-convert {\n",
              "      background-color: #E8F0FE;\n",
              "      border: none;\n",
              "      border-radius: 50%;\n",
              "      cursor: pointer;\n",
              "      display: none;\n",
              "      fill: #1967D2;\n",
              "      height: 32px;\n",
              "      padding: 0 0 0 0;\n",
              "      width: 32px;\n",
              "    }\n",
              "\n",
              "    .colab-df-convert:hover {\n",
              "      background-color: #E2EBFA;\n",
              "      box-shadow: 0px 1px 2px rgba(60, 64, 67, 0.3), 0px 1px 3px 1px rgba(60, 64, 67, 0.15);\n",
              "      fill: #174EA6;\n",
              "    }\n",
              "\n",
              "    [theme=dark] .colab-df-convert {\n",
              "      background-color: #3B4455;\n",
              "      fill: #D2E3FC;\n",
              "    }\n",
              "\n",
              "    [theme=dark] .colab-df-convert:hover {\n",
              "      background-color: #434B5C;\n",
              "      box-shadow: 0px 1px 3px 1px rgba(0, 0, 0, 0.15);\n",
              "      filter: drop-shadow(0px 1px 2px rgba(0, 0, 0, 0.3));\n",
              "      fill: #FFFFFF;\n",
              "    }\n",
              "  </style>\n",
              "\n",
              "      <script>\n",
              "        const buttonEl =\n",
              "          document.querySelector('#df-9c48a960-1388-443f-a0dd-2ca58cb5c16a button.colab-df-convert');\n",
              "        buttonEl.style.display =\n",
              "          google.colab.kernel.accessAllowed ? 'block' : 'none';\n",
              "\n",
              "        async function convertToInteractive(key) {\n",
              "          const element = document.querySelector('#df-9c48a960-1388-443f-a0dd-2ca58cb5c16a');\n",
              "          const dataTable =\n",
              "            await google.colab.kernel.invokeFunction('convertToInteractive',\n",
              "                                                     [key], {});\n",
              "          if (!dataTable) return;\n",
              "\n",
              "          const docLinkHtml = 'Like what you see? Visit the ' +\n",
              "            '<a target=\"_blank\" href=https://colab.research.google.com/notebooks/data_table.ipynb>data table notebook</a>'\n",
              "            + ' to learn more about interactive tables.';\n",
              "          element.innerHTML = '';\n",
              "          dataTable['output_type'] = 'display_data';\n",
              "          await google.colab.output.renderOutput(dataTable, element);\n",
              "          const docLink = document.createElement('div');\n",
              "          docLink.innerHTML = docLinkHtml;\n",
              "          element.appendChild(docLink);\n",
              "        }\n",
              "      </script>\n",
              "    </div>\n",
              "  </div>\n",
              "  "
            ]
          },
          "metadata": {},
          "execution_count": 28
        }
      ]
    },
    {
      "cell_type": "markdown",
      "source": [
        "- **KNN**"
      ],
      "metadata": {
        "id": "nXsIVnSPH0Jw"
      }
    },
    {
      "cell_type": "code",
      "source": [
        "# import pakacages\n",
        "from sklearn.neighbors import KNeighborsClassifier\n",
        "import seaborn as sns\n",
        "from sklearn.metrics import f1_score\n",
        "from sklearn.pipeline import make_pipeline"
      ],
      "metadata": {
        "id": "V6JlodExJIwF"
      },
      "execution_count": null,
      "outputs": []
    },
    {
      "cell_type": "code",
      "source": [
        "# test the data with KNN\n",
        "# \n",
        "\n",
        "K = []\n",
        "training = []\n",
        "test = []\n",
        "scores = {}\n",
        "f1_scores = {}\n",
        "  \n",
        "for k in range(1, 21):\n",
        "    scaler = StandardScaler()\n",
        "    Kneigh = KNeighborsClassifier(n_neighbors = k)\n",
        "    pipe = Pipeline([(\"scaler\", scaler), (\"knn\", Kneigh)])\n",
        "    \n",
        "    pipe.fit(X_train, y_train)\n",
        "  \n",
        "    training_score = pipe.score(X_train, y_train)\n",
        "    test_score = pipe.score(X_test, y_test)\n",
        "    y_pred = pipe.predict(X_test)\n",
        "\n",
        "    macro = f1_score(y_test, y_pred, average='macro')\n",
        "    micro = f1_score(y_test, y_pred, average='micro')\n",
        "    weighted = f1_score(y_test, y_pred, average='weighted')\n",
        "    \n",
        "\n",
        "    K.append(k)\n",
        "  \n",
        "    training.append(training_score)\n",
        "    test.append(test_score)\n",
        "    scores[k] = [training_score, test_score]\n",
        "    f1_scores[k] = [macro, micro, weighted]"
      ],
      "metadata": {
        "id": "afjWGq-pc0D2"
      },
      "execution_count": null,
      "outputs": []
    },
    {
      "cell_type": "code",
      "source": [
        "# print the test\n",
        "for keys, values in scores.items():\n",
        "  print(keys, ':', values)"
      ],
      "metadata": {
        "colab": {
          "base_uri": "https://localhost:8080/"
        },
        "id": "E3cn6CmWVzka",
        "outputId": "7f7fabfc-c2f1-4113-cf1c-f29fc1f15048"
      },
      "execution_count": null,
      "outputs": [
        {
          "output_type": "stream",
          "name": "stdout",
          "text": [
            "1 : [0.9971046670367092, 0.45579142935461275]\n",
            "2 : [0.7292638653445146, 0.501720829653093]\n",
            "3 : [0.710196672617351, 0.506776718545366]\n",
            "4 : [0.673997509713617, 0.5186550117260074]\n",
            "5 : [0.6589057741640288, 0.5191423263180337]\n",
            "6 : [0.6453292128594789, 0.5289495324825633]\n",
            "7 : [0.6367482260459952, 0.528370846404532]\n",
            "8 : [0.6291873565460028, 0.5348582219108824]\n",
            "9 : [0.6224065767563269, 0.5379648524350501]\n",
            "10 : [0.6180110712731964, 0.5409191971492097]\n",
            "11 : [0.612340419148202, 0.543203484299333]\n",
            "12 : [0.6111552828575286, 0.5455182286114579]\n",
            "13 : [0.6075398670847147, 0.5462187433374958]\n",
            "14 : [0.6044795151442416, 0.5461882861754942]\n",
            "15 : [0.602874330548013, 0.5486553162976274]\n",
            "16 : [0.6012241407761892, 0.5506045746657326]\n",
            "17 : [0.5988538681948424, 0.5512137179057656]\n",
            "18 : [0.5972336818734154, 0.5510614320957573]\n",
            "19 : [0.596123554208734, 0.5510614320957573]\n",
            "20 : [0.5941733299329423, 0.5533761764078823]\n"
          ]
        }
      ]
    },
    {
      "cell_type": "code",
      "source": [
        "# display training scores with respect to different k values\n",
        "ax = sns.stripplot(K, training);\n",
        "ax.set(xlabel ='values of k', ylabel ='Training Score')  \n",
        "  \n",
        "plt.show()"
      ],
      "metadata": {
        "colab": {
          "base_uri": "https://localhost:8080/",
          "height": 335
        },
        "id": "YNTmKVWUrvjI",
        "outputId": "d2842d45-ee9f-4de4-9d91-6d062a717633"
      },
      "execution_count": null,
      "outputs": [
        {
          "output_type": "stream",
          "name": "stderr",
          "text": [
            "/usr/local/lib/python3.7/dist-packages/seaborn/_decorators.py:43: FutureWarning: Pass the following variables as keyword args: x, y. From version 0.12, the only valid positional argument will be `data`, and passing other arguments without an explicit keyword will result in an error or misinterpretation.\n",
            "  FutureWarning\n"
          ]
        },
        {
          "output_type": "display_data",
          "data": {
            "text/plain": [
              "<Figure size 432x288 with 1 Axes>"
            ],
            "image/png": "[encoded data removed]"
          },
          "metadata": {
            "needs_background": "light"
          }
        }
      ]
    },
    {
      "cell_type": "code",
      "source": [
        "# display testing scores with respect to different k values\n",
        "ax = sns.stripplot(K, test);\n",
        "ax.set(xlabel ='values of k', ylabel ='Test Score')\n",
        "plt.show()"
      ],
      "metadata": {
        "colab": {
          "base_uri": "https://localhost:8080/",
          "height": 335
        },
        "id": "zcT6lQLhry2n",
        "outputId": "963d6806-f9ad-438d-939b-5c502b7f00a9"
      },
      "execution_count": null,
      "outputs": [
        {
          "output_type": "stream",
          "name": "stderr",
          "text": [
            "/usr/local/lib/python3.7/dist-packages/seaborn/_decorators.py:43: FutureWarning: Pass the following variables as keyword args: x, y. From version 0.12, the only valid positional argument will be `data`, and passing other arguments without an explicit keyword will result in an error or misinterpretation.\n",
            "  FutureWarning\n"
          ]
        },
        {
          "output_type": "display_data",
          "data": {
            "text/plain": [
              "<Figure size 432x288 with 1 Axes>"
            ],
            "image/png": "[encoded data removed]"
          },
          "metadata": {
            "needs_background": "light"
          }
        }
      ]
    },
    {
      "cell_type": "code",
      "source": [
        "# display both training & testing scores with respect to different k values\n",
        "plt.scatter(K, training, color ='k')\n",
        "plt.scatter(K, test, color ='g')\n",
        "plt.show()"
      ],
      "metadata": {
        "colab": {
          "base_uri": "https://localhost:8080/",
          "height": 265
        },
        "id": "5a4q_ae1r1Dr",
        "outputId": "bebc6047-1192-452a-e1bf-6e3b019e5f58"
      },
      "execution_count": null,
      "outputs": [
        {
          "output_type": "display_data",
          "data": {
            "text/plain": [
              "<Figure size 432x288 with 1 Axes>"
            ],
            "image/png": "[encoded data removed]"
          },
          "metadata": {
            "needs_background": "light"
          }
        }
      ]
    },
    {
      "cell_type": "markdown",
      "source": [
        "- Linear SVM"
      ],
      "metadata": {
        "id": "Kt2EyRBT1w1N"
      }
    },
    {
      "cell_type": "code",
      "source": [
        "scaler = StandardScaler()\n",
        "X_train = scaler.fit_transform(X_train)\n",
        "X_test = scaler.transform(X_test)\n",
        "\n",
        "from sklearn.svm import LinearSVC\n",
        "svm = LinearSVC(dual=False, multi_class='ovr')\n",
        "svm.fit(X_train, y_train)\n",
        "print(svm.score(X_test, y_test))"
      ],
      "metadata": {
        "colab": {
          "base_uri": "https://localhost:8080/"
        },
        "id": "vTW1Uj2F1099",
        "outputId": "5f482a88-0b4b-4fcf-a8d6-fee180cf664c"
      },
      "execution_count": null,
      "outputs": [
        {
          "output_type": "stream",
          "name": "stdout",
          "text": [
            "0.561203667042305\n"
          ]
        }
      ]
    },
    {
      "cell_type": "code",
      "source": [
        "parameters = {'penalty':['l1', 'l2'], 'C':[0.5, 1, 10]}\n",
        "grid_search = GridSearchCV(svm, parameters, cv=5)\n",
        "grid_search.fit(X, y)\n",
        "results = pd.DataFrame.from_dict(grid_search.cv_results_)\n",
        "results"
      ],
      "metadata": {
        "colab": {
          "base_uri": "https://localhost:8080/",
          "height": 760
        },
        "id": "CZm_VWgy3EkY",
        "outputId": "05fef613-3550-43e4-b66c-f09f21a32112"
      },
      "execution_count": null,
      "outputs": [
        {
          "output_type": "stream",
          "name": "stderr",
          "text": [
            "/usr/local/lib/python3.7/dist-packages/sklearn/svm/_base.py:1208: ConvergenceWarning: Liblinear failed to converge, increase the number of iterations.\n",
            "  ConvergenceWarning,\n",
            "/usr/local/lib/python3.7/dist-packages/sklearn/svm/_base.py:1208: ConvergenceWarning: Liblinear failed to converge, increase the number of iterations.\n",
            "  ConvergenceWarning,\n",
            "/usr/local/lib/python3.7/dist-packages/sklearn/svm/_base.py:1208: ConvergenceWarning: Liblinear failed to converge, increase the number of iterations.\n",
            "  ConvergenceWarning,\n",
            "/usr/local/lib/python3.7/dist-packages/sklearn/svm/_base.py:1208: ConvergenceWarning: Liblinear failed to converge, increase the number of iterations.\n",
            "  ConvergenceWarning,\n",
            "/usr/local/lib/python3.7/dist-packages/sklearn/svm/_base.py:1208: ConvergenceWarning: Liblinear failed to converge, increase the number of iterations.\n",
            "  ConvergenceWarning,\n",
            "/usr/local/lib/python3.7/dist-packages/sklearn/svm/_base.py:1208: ConvergenceWarning: Liblinear failed to converge, increase the number of iterations.\n",
            "  ConvergenceWarning,\n",
            "/usr/local/lib/python3.7/dist-packages/sklearn/svm/_base.py:1208: ConvergenceWarning: Liblinear failed to converge, increase the number of iterations.\n",
            "  ConvergenceWarning,\n"
          ]
        },
        {
          "output_type": "execute_result",
          "data": {
            "text/plain": [
              "   mean_fit_time  std_fit_time  mean_score_time  std_score_time param_C  \\\n",
              "0       7.229533      1.330308         0.006934        0.000454     0.5   \n",
              "1       1.446257      0.059177         0.008800        0.001165     0.5   \n",
              "2       3.208818      1.280957         0.008536        0.002532       1   \n",
              "3       1.448568      0.156619         0.006926        0.000370       1   \n",
              "4       1.279406      0.100009         0.007108        0.000812      10   \n",
              "5       1.357787      0.097534         0.006725        0.000167      10   \n",
              "\n",
              "  param_penalty                       params  split0_test_score  \\\n",
              "0            l1  {'C': 0.5, 'penalty': 'l1'}           0.552842   \n",
              "1            l2  {'C': 0.5, 'penalty': 'l2'}           0.552842   \n",
              "2            l1    {'C': 1, 'penalty': 'l1'}           0.552842   \n",
              "3            l2    {'C': 1, 'penalty': 'l2'}           0.552842   \n",
              "4            l1   {'C': 10, 'penalty': 'l1'}           0.552842   \n",
              "5            l2   {'C': 10, 'penalty': 'l2'}           0.552842   \n",
              "\n",
              "   split1_test_score  split2_test_score  split3_test_score  split4_test_score  \\\n",
              "0           0.558571           0.549603           0.570057           0.573676   \n",
              "1           0.558621           0.549603           0.569907           0.573827   \n",
              "2           0.558621           0.549603           0.570057           0.573676   \n",
              "3           0.558621           0.549653           0.570057           0.573827   \n",
              "4           0.558621           0.549603           0.570057           0.573726   \n",
              "5           0.558571           0.549703           0.569756           0.573827   \n",
              "\n",
              "   mean_test_score  std_test_score  rank_test_score  \n",
              "0          0.56095        0.009434                5  \n",
              "1          0.56096        0.009444                3  \n",
              "2          0.56096        0.009432                3  \n",
              "3          0.56100        0.009461                1  \n",
              "4          0.56097        0.009446                2  \n",
              "5          0.56094        0.009394                6  "
            ],
            "text/html": [
              "\n",
              "  <div id=\"df-ac8fc3d9-4665-43a1-aefd-ef1adeabf0c4\">\n",
              "    <div class=\"colab-df-container\">\n",
              "      <div>\n",
              "<style scoped>\n",
              "    .dataframe tbody tr th:only-of-type {\n",
              "        vertical-align: middle;\n",
              "    }\n",
              "\n",
              "    .dataframe tbody tr th {\n",
              "        vertical-align: top;\n",
              "    }\n",
              "\n",
              "    .dataframe thead th {\n",
              "        text-align: right;\n",
              "    }\n",
              "</style>\n",
              "<table border=\"1\" class=\"dataframe\">\n",
              "  <thead>\n",
              "    <tr style=\"text-align: right;\">\n",
              "      <th></th>\n",
              "      <th>mean_fit_time</th>\n",
              "      <th>std_fit_time</th>\n",
              "      <th>mean_score_time</th>\n",
              "      <th>std_score_time</th>\n",
              "      <th>param_C</th>\n",
              "      <th>param_penalty</th>\n",
              "      <th>params</th>\n",
              "      <th>split0_test_score</th>\n",
              "      <th>split1_test_score</th>\n",
              "      <th>split2_test_score</th>\n",
              "      <th>split3_test_score</th>\n",
              "      <th>split4_test_score</th>\n",
              "      <th>mean_test_score</th>\n",
              "      <th>std_test_score</th>\n",
              "      <th>rank_test_score</th>\n",
              "    </tr>\n",
              "  </thead>\n",
              "  <tbody>\n",
              "    <tr>\n",
              "      <th>0</th>\n",
              "      <td>7.229533</td>\n",
              "      <td>1.330308</td>\n",
              "      <td>0.006934</td>\n",
              "      <td>0.000454</td>\n",
              "      <td>0.5</td>\n",
              "      <td>l1</td>\n",
              "      <td>{'C': 0.5, 'penalty': 'l1'}</td>\n",
              "      <td>0.552842</td>\n",
              "      <td>0.558571</td>\n",
              "      <td>0.549603</td>\n",
              "      <td>0.570057</td>\n",
              "      <td>0.573676</td>\n",
              "      <td>0.56095</td>\n",
              "      <td>0.009434</td>\n",
              "      <td>5</td>\n",
              "    </tr>\n",
              "    <tr>\n",
              "      <th>1</th>\n",
              "      <td>1.446257</td>\n",
              "      <td>0.059177</td>\n",
              "      <td>0.008800</td>\n",
              "      <td>0.001165</td>\n",
              "      <td>0.5</td>\n",
              "      <td>l2</td>\n",
              "      <td>{'C': 0.5, 'penalty': 'l2'}</td>\n",
              "      <td>0.552842</td>\n",
              "      <td>0.558621</td>\n",
              "      <td>0.549603</td>\n",
              "      <td>0.569907</td>\n",
              "      <td>0.573827</td>\n",
              "      <td>0.56096</td>\n",
              "      <td>0.009444</td>\n",
              "      <td>3</td>\n",
              "    </tr>\n",
              "    <tr>\n",
              "      <th>2</th>\n",
              "      <td>3.208818</td>\n",
              "      <td>1.280957</td>\n",
              "      <td>0.008536</td>\n",
              "      <td>0.002532</td>\n",
              "      <td>1</td>\n",
              "      <td>l1</td>\n",
              "      <td>{'C': 1, 'penalty': 'l1'}</td>\n",
              "      <td>0.552842</td>\n",
              "      <td>0.558621</td>\n",
              "      <td>0.549603</td>\n",
              "      <td>0.570057</td>\n",
              "      <td>0.573676</td>\n",
              "      <td>0.56096</td>\n",
              "      <td>0.009432</td>\n",
              "      <td>3</td>\n",
              "    </tr>\n",
              "    <tr>\n",
              "      <th>3</th>\n",
              "      <td>1.448568</td>\n",
              "      <td>0.156619</td>\n",
              "      <td>0.006926</td>\n",
              "      <td>0.000370</td>\n",
              "      <td>1</td>\n",
              "      <td>l2</td>\n",
              "      <td>{'C': 1, 'penalty': 'l2'}</td>\n",
              "      <td>0.552842</td>\n",
              "      <td>0.558621</td>\n",
              "      <td>0.549653</td>\n",
              "      <td>0.570057</td>\n",
              "      <td>0.573827</td>\n",
              "      <td>0.56100</td>\n",
              "      <td>0.009461</td>\n",
              "      <td>1</td>\n",
              "    </tr>\n",
              "    <tr>\n",
              "      <th>4</th>\n",
              "      <td>1.279406</td>\n",
              "      <td>0.100009</td>\n",
              "      <td>0.007108</td>\n",
              "      <td>0.000812</td>\n",
              "      <td>10</td>\n",
              "      <td>l1</td>\n",
              "      <td>{'C': 10, 'penalty': 'l1'}</td>\n",
              "      <td>0.552842</td>\n",
              "      <td>0.558621</td>\n",
              "      <td>0.549603</td>\n",
              "      <td>0.570057</td>\n",
              "      <td>0.573726</td>\n",
              "      <td>0.56097</td>\n",
              "      <td>0.009446</td>\n",
              "      <td>2</td>\n",
              "    </tr>\n",
              "    <tr>\n",
              "      <th>5</th>\n",
              "      <td>1.357787</td>\n",
              "      <td>0.097534</td>\n",
              "      <td>0.006725</td>\n",
              "      <td>0.000167</td>\n",
              "      <td>10</td>\n",
              "      <td>l2</td>\n",
              "      <td>{'C': 10, 'penalty': 'l2'}</td>\n",
              "      <td>0.552842</td>\n",
              "      <td>0.558571</td>\n",
              "      <td>0.549703</td>\n",
              "      <td>0.569756</td>\n",
              "      <td>0.573827</td>\n",
              "      <td>0.56094</td>\n",
              "      <td>0.009394</td>\n",
              "      <td>6</td>\n",
              "    </tr>\n",
              "  </tbody>\n",
              "</table>\n",
              "</div>\n",
              "      <button class=\"colab-df-convert\" onclick=\"convertToInteractive('df-ac8fc3d9-4665-43a1-aefd-ef1adeabf0c4')\"\n",
              "              title=\"Convert this dataframe to an interactive table.\"\n",
              "              style=\"display:none;\">\n",
              "        \n",
              "  <svg xmlns=\"http://www.w3.org/2000/svg\" height=\"24px\"viewBox=\"0 0 24 24\"\n",
              "       width=\"24px\">\n",
              "    <path d=\"M0 0h24v24H0V0z\" fill=\"none\"/>\n",
              "    <path d=\"M18.56 5.44l.94 2.06.94-2.06 2.06-.94-2.06-.94-.94-2.06-.94 2.06-2.06.94zm-11 1L8.5 8.5l.94-2.06 2.06-.94-2.06-.94L8.5 2.5l-.94 2.06-2.06.94zm10 10l.94 2.06.94-2.06 2.06-.94-2.06-.94-.94-2.06-.94 2.06-2.06.94z\"/><path d=\"M17.41 7.96l-1.37-1.37c-.4-.4-.92-.59-1.43-.59-.52 0-1.04.2-1.43.59L10.3 9.45l-7.72 7.72c-.78.78-.78 2.05 0 2.83L4 21.41c.39.39.9.59 1.41.59.51 0 1.02-.2 1.41-.59l7.78-7.78 2.81-2.81c.8-.78.8-2.07 0-2.86zM5.41 20L4 18.59l7.72-7.72 1.47 1.35L5.41 20z\"/>\n",
              "  </svg>\n",
              "      </button>\n",
              "      \n",
              "  <style>\n",
              "    .colab-df-container {\n",
              "      display:flex;\n",
              "      flex-wrap:wrap;\n",
              "      gap: 12px;\n",
              "    }\n",
              "\n",
              "    .colab-df-convert {\n",
              "      background-color: #E8F0FE;\n",
              "      border: none;\n",
              "      border-radius: 50%;\n",
              "      cursor: pointer;\n",
              "      display: none;\n",
              "      fill: #1967D2;\n",
              "      height: 32px;\n",
              "      padding: 0 0 0 0;\n",
              "      width: 32px;\n",
              "    }\n",
              "\n",
              "    .colab-df-convert:hover {\n",
              "      background-color: #E2EBFA;\n",
              "      box-shadow: 0px 1px 2px rgba(60, 64, 67, 0.3), 0px 1px 3px 1px rgba(60, 64, 67, 0.15);\n",
              "      fill: #174EA6;\n",
              "    }\n",
              "\n",
              "    [theme=dark] .colab-df-convert {\n",
              "      background-color: #3B4455;\n",
              "      fill: #D2E3FC;\n",
              "    }\n",
              "\n",
              "    [theme=dark] .colab-df-convert:hover {\n",
              "      background-color: #434B5C;\n",
              "      box-shadow: 0px 1px 3px 1px rgba(0, 0, 0, 0.15);\n",
              "      filter: drop-shadow(0px 1px 2px rgba(0, 0, 0, 0.3));\n",
              "      fill: #FFFFFF;\n",
              "    }\n",
              "  </style>\n",
              "\n",
              "      <script>\n",
              "        const buttonEl =\n",
              "          document.querySelector('#df-ac8fc3d9-4665-43a1-aefd-ef1adeabf0c4 button.colab-df-convert');\n",
              "        buttonEl.style.display =\n",
              "          google.colab.kernel.accessAllowed ? 'block' : 'none';\n",
              "\n",
              "        async function convertToInteractive(key) {\n",
              "          const element = document.querySelector('#df-ac8fc3d9-4665-43a1-aefd-ef1adeabf0c4');\n",
              "          const dataTable =\n",
              "            await google.colab.kernel.invokeFunction('convertToInteractive',\n",
              "                                                     [key], {});\n",
              "          if (!dataTable) return;\n",
              "\n",
              "          const docLinkHtml = 'Like what you see? Visit the ' +\n",
              "            '<a target=\"_blank\" href=https://colab.research.google.com/notebooks/data_table.ipynb>data table notebook</a>'\n",
              "            + ' to learn more about interactive tables.';\n",
              "          element.innerHTML = '';\n",
              "          dataTable['output_type'] = 'display_data';\n",
              "          await google.colab.output.renderOutput(dataTable, element);\n",
              "          const docLink = document.createElement('div');\n",
              "          docLink.innerHTML = docLinkHtml;\n",
              "          element.appendChild(docLink);\n",
              "        }\n",
              "      </script>\n",
              "    </div>\n",
              "  </div>\n",
              "  "
            ]
          },
          "metadata": {},
          "execution_count": 6
        }
      ]
    },
    {
      "cell_type": "code",
      "source": [
        "def get_matrix(results):\n",
        "    matrix = [[0, 0, 0, 0, 0, 0]]\n",
        "    for i in range(5):\n",
        "        key = 'split' + str(i) + '_test_score'\n",
        "        matrix = np.vstack((matrix, results[key]))\n",
        "        \n",
        "    return matrix[1:, :]\n",
        "\n",
        "matrix = get_matrix(grid_search.cv_results_)\n",
        "\n",
        "plt.plot(matrix[:, 0], label='L1 C=0.5')\n",
        "plt.legend()\n",
        "plt.show()"
      ],
      "metadata": {
        "colab": {
          "base_uri": "https://localhost:8080/",
          "height": 265
        },
        "id": "Uadhpt0r3kfM",
        "outputId": "ae882d9c-a978-4d6f-eb7f-1e474710fb74"
      },
      "execution_count": null,
      "outputs": [
        {
          "output_type": "display_data",
          "data": {
            "text/plain": [
              "<Figure size 432x288 with 1 Axes>"
            ],
            "image/png": "[encoded data removed]"
          },
          "metadata": {
            "needs_background": "light"
          }
        }
      ]
    },
    {
      "cell_type": "code",
      "source": [
        "plt.plot(matrix[:, 1], label='L2 C=0.5')\n",
        "plt.legend()\n",
        "plt.show()"
      ],
      "metadata": {
        "colab": {
          "base_uri": "https://localhost:8080/",
          "height": 269
        },
        "id": "MDqGyAt_5_aL",
        "outputId": "6d2b2695-dc23-4af1-ceaa-804284508b15"
      },
      "execution_count": null,
      "outputs": [
        {
          "output_type": "display_data",
          "data": {
            "text/plain": [
              "<Figure size 432x288 with 1 Axes>"
            ],
            "image/png": "[encoded data removed]"
          },
          "metadata": {
            "needs_background": "light"
          }
        }
      ]
    },
    {
      "cell_type": "code",
      "source": [
        "plt.plot(matrix[:, 2], label='L1 C=1')\n",
        "plt.legend()\n",
        "plt.show()"
      ],
      "metadata": {
        "colab": {
          "base_uri": "https://localhost:8080/",
          "height": 265
        },
        "id": "MC4Zu_nP6GIJ",
        "outputId": "0e8e5186-4c81-4914-9e40-19eae8937dcc"
      },
      "execution_count": null,
      "outputs": [
        {
          "output_type": "display_data",
          "data": {
            "text/plain": [
              "<Figure size 432x288 with 1 Axes>"
            ],
            "image/png": "[encoded data removed]"
          },
          "metadata": {
            "needs_background": "light"
          }
        }
      ]
    },
    {
      "cell_type": "code",
      "source": [
        "plt.plot(matrix[:, 3], label='L2 C=1')\n",
        "plt.legend()\n",
        "plt.show()"
      ],
      "metadata": {
        "colab": {
          "base_uri": "https://localhost:8080/",
          "height": 269
        },
        "id": "s2L-iRt36Lz8",
        "outputId": "ca53c743-5963-4306-d7f1-66fb7b5c62be"
      },
      "execution_count": null,
      "outputs": [
        {
          "output_type": "display_data",
          "data": {
            "text/plain": [
              "<Figure size 432x288 with 1 Axes>"
            ],
            "image/png": "[encoded data removed]"
          },
          "metadata": {
            "needs_background": "light"
          }
        }
      ]
    },
    {
      "cell_type": "code",
      "source": [
        "plt.plot(matrix[:, 4], label='L1 C=10')\n",
        "plt.legend()\n",
        "plt.show()"
      ],
      "metadata": {
        "colab": {
          "base_uri": "https://localhost:8080/",
          "height": 265
        },
        "id": "CeNAtTAa6MXr",
        "outputId": "6620a815-dc49-4fc6-a911-d5b4f9bc0acb"
      },
      "execution_count": null,
      "outputs": [
        {
          "output_type": "display_data",
          "data": {
            "text/plain": [
              "<Figure size 432x288 with 1 Axes>"
            ],
            "image/png": "[encoded data removed]"
          },
          "metadata": {
            "needs_background": "light"
          }
        }
      ]
    },
    {
      "cell_type": "code",
      "source": [
        "plt.plot(matrix[:, 5], label='L2 C=10')\n",
        "plt.legend()\n",
        "plt.show()"
      ],
      "metadata": {
        "colab": {
          "base_uri": "https://localhost:8080/",
          "height": 269
        },
        "id": "Ct1Iejd46O7Y",
        "outputId": "75fbbe66-5d4d-4682-fb1f-ab1458e15e8c"
      },
      "execution_count": null,
      "outputs": [
        {
          "output_type": "display_data",
          "data": {
            "text/plain": [
              "<Figure size 432x288 with 1 Axes>"
            ],
            "image/png": "[encoded data removed]"
          },
          "metadata": {
            "needs_background": "light"
          }
        }
      ]
    },
    {
      "cell_type": "markdown",
      "metadata": {
        "id": "ug2kCdPs8_zB"
      },
      "source": [
        "# Ethics & Privacy"
      ]
    },
    {
      "cell_type": "markdown",
      "metadata": {
        "id": "2yTp5mLOByIn"
      },
      "source": [
        "\n",
        "##Data Collection:\n",
        "\n",
        "###Our Concerns:\n",
        "1) Did we consider what biases could affect our data collection? Are there any biases in our datasets? \n",
        "\n",
        "2) How can we limit exposure of the subjects?\n",
        "\n",
        "###Measures: \n",
        "\n",
        "We will be careful when generalizing our results such as, not making claims that our results can be generalized to the entire population. The dataset is disidentified in order to limit exposure of the subjects. Also all the subjects are aware of what data has been collected, for what purpose, and on agreement.  \n",
        "\n",
        "##Models:\n",
        "\n",
        "###Our Concerns:\n",
        "\n",
        "1) Are we sure that our models do not rely on unfair variables? Are we unknowingly or knowingly choosing discriminatory variables? Can we say with certainty that our Model fair?\n",
        "\n",
        "2) Can anyone easily explain and understand the decisions made by the model and the results? Is there any thing about the process or the results of the model that can confuse others?\n",
        "\n",
        "3) Have we clearly addressed any and all limitations or shortcoming of our models? Have we purposefully marginalized any limitations to make us look good? Can people clearly explain when to use our model and when not to?\n",
        "\n",
        "###Measures: \n",
        "\n",
        "In order to make sure there is no bias in our model, we have selected a large dataset to control for any potential sample bias or prejudice bias. We will make sure to make as few assumptions as possible to keep the bias low. We will also document any limitations or shortcomings with our model. We will also document any problems we faced while working with the models and what steps we took to solve them.\n",
        "\n",
        "\n",
        "##Analysis:\n",
        "\n",
        "###Our Concerns:\n",
        "\n",
        "1) Are there any blindspots in our analysis? Any missing perespectives?\n",
        "\n",
        "2) Are the visualizations we are using and the statistics we calculated honest? Are we accurately communicating the results of our experiments?  \n",
        "\n",
        "3) Can this experiment and analysis be reproduced? If people reuse our model and datasets, will they come to same conclusion as us? \n",
        "\n",
        "###Measures: \n",
        "\n",
        "We have taken steps to make sure that our data and models have no biases in them. Any statsitics or claims used in the analysis will be referenced for the readers to verify. In order to make sure that our experiment and analysis is reproducible we will make sure each step we took is clear and understandable. This will allow others to easily reproduce our results using our models and datasets.      \n",
        "\n"
      ]
    },
    {
      "cell_type": "markdown",
      "metadata": {
        "id": "4wXz-hK5ByIp"
      },
      "source": [
        "# Team Expectations "
      ]
    },
    {
      "cell_type": "markdown",
      "metadata": {
        "id": "K4wVYqqyByIr"
      },
      "source": [
        "How will we interact/communicate as a team?\n",
        "\n",
        "- We have a discord server where we are all added. Any communication about the project will take place there. Links to all project related materials such as code and documentations can also be found there\n",
        "\n",
        "- We also have shared our email addresses for any other communications\n",
        "\n",
        "- Online and in-person meetings for anything that needs team attention and discussion \n",
        "\n",
        "How will we handle conflict and difficulty?\n",
        "\n",
        "- If there are any questions that any member may have they can ask them in the discord server or through email\n",
        "\n",
        "- If there are any major conflicts that arise, they will be immediately be addressed in the discord server. If anything requires team discussion we can meet online or in-person as needed\n",
        "\n",
        "How will we handle making decisions and setting goals/schedule?\n",
        "\n",
        "- All decisions and goal setting/scheduling happen in the discord server or during planned in-person or online meetings\n",
        "\n",
        "How much work do we expect from each other?\n",
        "\n",
        "- We will all be assigned weekly tasks that we will work on. At the end of the week we update the team about our progress. We will also actively make sure each member feels that the work assigned is fair and there are no concerns\n",
        "\n",
        "How will we handle deadlines?\n",
        "\n",
        "- We will set deadlines that everyone can agree upon and manage given their schedule. \n",
        "\n"
      ]
    },
    {
      "cell_type": "markdown",
      "metadata": {
        "id": "ZDf8JFhZByIs"
      },
      "source": [
        "# Project Timeline Proposal"
      ]
    },
    {
      "cell_type": "markdown",
      "metadata": {
        "id": "lc-5YS2SByIt"
      },
      "source": [
        "| Meeting Date  | Meeting Time| Completed Before Meeting  | Discuss at Meeting |\n",
        "|---|---|---|---|\n",
        "| 4/20  |  7:30 PM |  Brainstorm topics/questions (all)  | Determine best form of communication; Discuss and decide on final project topic; Discuss dataset and possible solutions | \n",
        "| 4/22  |  7:30 PM |  Draft project proposal | Proofread the proposal; submit project proposal | \n",
        "| 4/27  | 7:30 PM  | Download the dataset and take a look at the dataset  | Discuss Wrangling and possible analytical approaches; Assign group members to lead each specific part   |\n",
        "| 5/4  | 7:30 PM  | Import & Wrangle Data ,do some data cleaning (all) | Review/Edit wrangling/EDA; Discuss Machine Learning Algorithm Plan   |\n",
        "| 5/11  | 7:30 PM  | Finalize wrangling/EDA; Begin trying out different algorithms for project (all) | Discuss/finish project checkpoint; Submit project checkpoint|\n",
        "| 5/25  | 12 PM  | Complete all experiments; Draft results/conclusion/discussion (all)| edit/finalize full project |\n",
        "| 6/7  | Before 11:59 PM  | NA | Turn in Final Project  |"
      ]
    },
    {
      "cell_type": "markdown",
      "metadata": {
        "id": "acm4doKbByIv"
      },
      "source": [
        "# Footnotes\n",
        "<a name=\"abc\"></a>1.[^](#abc):Mayo Foundation for Medical Education and Research. (2021, January 20). Type 2 diabetes. Mayo Clinic. Retrieved April 23, 2022, from https://www.mayoclinic.org/diseases-conditions/type-2-diabetes/symptoms-causes/syc-20351193#:~:text=Potential%20complications%20of%20diabetes%20and,damage%20(neuropathy)%20in%20limbs. <br> \n",
        "<a name=\"admonishnote\"></a>2.[^](#admonishnote): Ostling, S., Wyckoff, J., Ciarkowski, S. L., Pai, C.-W., Choe, H. M., Bahl, V., &amp; Gianchandani, R. (2017, March 22). The relationship between diabetes mellitus and 30-day readmission rates - clinical diabetes and endocrinology. BioMed Central. Retrieved April 23, 2022, from https://clindiabetesendo.biomedcentral.com/articles/10.1186/s40842-016-0040-x <br>\n",
        "<a name=\"wfds\"></a>3.[^](#wfds): Strack, B., DeShazo, J. P., Gennings, C., Olmo, J. L., Ventura, S., Cios, K. J., &amp; Clore, J. N. (2014, April 3). Impact of hba1c measurement on hospital readmission rates: Analysis of 70,000 clinical database patient records. BioMed Research International. Retrieved April 23, 2022, from https://doi.org/10.1155/2014/781670.\n",
        "\n",
        "<a name=\"ander\"></a>4.[^](#ander): Andersen, R., & Aday, L. A. (1978). Access to Medical Care in the U.S.: Realized and Potential. Medical Care, 16(7), 533–546. http://www.jstor.org/stable/3763653\n",
        "\n",
        "<a name=\"ziller\"></a>5.[^](#ziller):Ziller, E. (2014). Access to medical care in rural America. Rural public health: Best practices and preventive models, 11-28."
      ]
    },
    {
      "cell_type": "code",
      "source": [
        ""
      ],
      "metadata": {
        "id": "MrnJFxCNqDpW"
      },
      "execution_count": null,
      "outputs": []
    }
  ],
  "metadata": {
    "kernelspec": {
      "display_name": "Python 3",
      "language": "python",
      "name": "python3"
    },
    "language_info": {
      "codemirror_mode": {
        "name": "ipython",
        "version": 3
      },
      "file_extension": ".py",
      "mimetype": "text/x-python",
      "name": "python",
      "nbconvert_exporter": "python",
      "pygments_lexer": "ipython3",
      "version": "3.7.1"
    },
    "colab": {
      "name": "Checkpoint_group015.ipynb",
      "provenance": [],
      "collapsed_sections": []
    }
  },
  "nbformat": 4,
  "nbformat_minor": 0
}